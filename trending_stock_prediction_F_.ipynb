{
  "nbformat": 4,
  "nbformat_minor": 0,
  "metadata": {
    "colab": {
      "name": "trending stock prediction F .ipynb",
      "provenance": [],
      "collapsed_sections": [],
      "authorship_tag": "ABX9TyP84NENA4jSo0oDb378+G/p",
      "include_colab_link": true
    },
    "kernelspec": {
      "name": "python3",
      "display_name": "Python 3"
    }
  },
  "cells": [
    {
      "cell_type": "markdown",
      "metadata": {
        "id": "view-in-github",
        "colab_type": "text"
      },
      "source": [
        "<a href=\"https://colab.research.google.com/github/itumor/colab/blob/master/trending_stock_prediction_F_.ipynb\" target=\"_parent\"><img src=\"https://colab.research.google.com/assets/colab-badge.svg\" alt=\"Open In Colab\"/></a>"
      ]
    },
    {
      "cell_type": "markdown",
      "metadata": {
        "id": "x__aZqvdnsSJ"
      },
      "source": [
        "**Trending Stock Prediction**"
      ]
    },
    {
      "cell_type": "code",
      "metadata": {
        "id": "5Mn7ki3anuMk"
      },
      "source": [
        "from datetime import datetime\n",
        "import math\n",
        "import pandas_datareader as web\n",
        "import numpy as np\n",
        "import pandas as pd\n",
        "from sklearn.preprocessing import MinMaxScaler\n",
        "from keras.models import Sequential\n",
        "from keras.layers import Dense, LSTM\n",
        "import matplotlib.pyplot as plt\n",
        "plt.style.use('fivethirtyeight')\n"
      ],
      "execution_count": 1,
      "outputs": []
    },
    {
      "cell_type": "code",
      "metadata": {
        "id": "2h05nn-l_EV7"
      },
      "source": [
        "stock ='F'\n",
        "startdate = '1900-01-01'\n",
        "enddate = datetime.today().strftime('%Y-%m-%d')"
      ],
      "execution_count": 2,
      "outputs": []
    },
    {
      "cell_type": "code",
      "metadata": {
        "id": "cisrhqp1o2bq",
        "outputId": "77a83b35-49e7-40b9-a2d1-1ef57358f75d",
        "colab": {
          "base_uri": "https://localhost:8080/",
          "height": 436
        }
      },
      "source": [
        "df = web.DataReader(stock, data_source='yahoo',start = startdate, end = enddate)\n",
        "df"
      ],
      "execution_count": 3,
      "outputs": [
        {
          "output_type": "execute_result",
          "data": {
            "text/html": [
              "<div>\n",
              "<style scoped>\n",
              "    .dataframe tbody tr th:only-of-type {\n",
              "        vertical-align: middle;\n",
              "    }\n",
              "\n",
              "    .dataframe tbody tr th {\n",
              "        vertical-align: top;\n",
              "    }\n",
              "\n",
              "    .dataframe thead th {\n",
              "        text-align: right;\n",
              "    }\n",
              "</style>\n",
              "<table border=\"1\" class=\"dataframe\">\n",
              "  <thead>\n",
              "    <tr style=\"text-align: right;\">\n",
              "      <th></th>\n",
              "      <th>High</th>\n",
              "      <th>Low</th>\n",
              "      <th>Open</th>\n",
              "      <th>Close</th>\n",
              "      <th>Volume</th>\n",
              "      <th>Adj Close</th>\n",
              "    </tr>\n",
              "    <tr>\n",
              "      <th>Date</th>\n",
              "      <th></th>\n",
              "      <th></th>\n",
              "      <th></th>\n",
              "      <th></th>\n",
              "      <th></th>\n",
              "      <th></th>\n",
              "    </tr>\n",
              "  </thead>\n",
              "  <tbody>\n",
              "    <tr>\n",
              "      <th>1972-06-01</th>\n",
              "      <td>2.173495</td>\n",
              "      <td>2.149165</td>\n",
              "      <td>2.149165</td>\n",
              "      <td>2.153220</td>\n",
              "      <td>1089200.0</td>\n",
              "      <td>0.002859</td>\n",
              "    </tr>\n",
              "    <tr>\n",
              "      <th>1972-06-02</th>\n",
              "      <td>2.173495</td>\n",
              "      <td>2.141055</td>\n",
              "      <td>2.153220</td>\n",
              "      <td>2.149165</td>\n",
              "      <td>1173500.0</td>\n",
              "      <td>0.002853</td>\n",
              "    </tr>\n",
              "    <tr>\n",
              "      <th>1972-06-05</th>\n",
              "      <td>2.169440</td>\n",
              "      <td>2.141055</td>\n",
              "      <td>2.149165</td>\n",
              "      <td>2.149165</td>\n",
              "      <td>5208100.0</td>\n",
              "      <td>0.002853</td>\n",
              "    </tr>\n",
              "    <tr>\n",
              "      <th>1972-06-06</th>\n",
              "      <td>2.157275</td>\n",
              "      <td>2.116725</td>\n",
              "      <td>2.149165</td>\n",
              "      <td>2.124835</td>\n",
              "      <td>1421400.0</td>\n",
              "      <td>0.002821</td>\n",
              "    </tr>\n",
              "    <tr>\n",
              "      <th>1972-06-07</th>\n",
              "      <td>2.137000</td>\n",
              "      <td>2.112669</td>\n",
              "      <td>2.124835</td>\n",
              "      <td>2.112669</td>\n",
              "      <td>671800.0</td>\n",
              "      <td>0.002805</td>\n",
              "    </tr>\n",
              "    <tr>\n",
              "      <th>...</th>\n",
              "      <td>...</td>\n",
              "      <td>...</td>\n",
              "      <td>...</td>\n",
              "      <td>...</td>\n",
              "      <td>...</td>\n",
              "      <td>...</td>\n",
              "    </tr>\n",
              "    <tr>\n",
              "      <th>2020-09-24</th>\n",
              "      <td>6.760000</td>\n",
              "      <td>6.410000</td>\n",
              "      <td>6.600000</td>\n",
              "      <td>6.660000</td>\n",
              "      <td>59822900.0</td>\n",
              "      <td>6.660000</td>\n",
              "    </tr>\n",
              "    <tr>\n",
              "      <th>2020-09-25</th>\n",
              "      <td>6.710000</td>\n",
              "      <td>6.500000</td>\n",
              "      <td>6.610000</td>\n",
              "      <td>6.510000</td>\n",
              "      <td>53761800.0</td>\n",
              "      <td>6.510000</td>\n",
              "    </tr>\n",
              "    <tr>\n",
              "      <th>2020-09-28</th>\n",
              "      <td>6.770000</td>\n",
              "      <td>6.580000</td>\n",
              "      <td>6.590000</td>\n",
              "      <td>6.690000</td>\n",
              "      <td>47582600.0</td>\n",
              "      <td>6.690000</td>\n",
              "    </tr>\n",
              "    <tr>\n",
              "      <th>2020-09-29</th>\n",
              "      <td>6.700000</td>\n",
              "      <td>6.540000</td>\n",
              "      <td>6.690000</td>\n",
              "      <td>6.600000</td>\n",
              "      <td>38987300.0</td>\n",
              "      <td>6.600000</td>\n",
              "    </tr>\n",
              "    <tr>\n",
              "      <th>2020-09-30</th>\n",
              "      <td>6.750000</td>\n",
              "      <td>6.590000</td>\n",
              "      <td>6.610000</td>\n",
              "      <td>6.655000</td>\n",
              "      <td>49076476.0</td>\n",
              "      <td>6.655000</td>\n",
              "    </tr>\n",
              "  </tbody>\n",
              "</table>\n",
              "<p>12190 rows × 6 columns</p>\n",
              "</div>"
            ],
            "text/plain": [
              "                High       Low      Open     Close      Volume  Adj Close\n",
              "Date                                                                     \n",
              "1972-06-01  2.173495  2.149165  2.149165  2.153220   1089200.0   0.002859\n",
              "1972-06-02  2.173495  2.141055  2.153220  2.149165   1173500.0   0.002853\n",
              "1972-06-05  2.169440  2.141055  2.149165  2.149165   5208100.0   0.002853\n",
              "1972-06-06  2.157275  2.116725  2.149165  2.124835   1421400.0   0.002821\n",
              "1972-06-07  2.137000  2.112669  2.124835  2.112669    671800.0   0.002805\n",
              "...              ...       ...       ...       ...         ...        ...\n",
              "2020-09-24  6.760000  6.410000  6.600000  6.660000  59822900.0   6.660000\n",
              "2020-09-25  6.710000  6.500000  6.610000  6.510000  53761800.0   6.510000\n",
              "2020-09-28  6.770000  6.580000  6.590000  6.690000  47582600.0   6.690000\n",
              "2020-09-29  6.700000  6.540000  6.690000  6.600000  38987300.0   6.600000\n",
              "2020-09-30  6.750000  6.590000  6.610000  6.655000  49076476.0   6.655000\n",
              "\n",
              "[12190 rows x 6 columns]"
            ]
          },
          "metadata": {
            "tags": []
          },
          "execution_count": 3
        }
      ]
    },
    {
      "cell_type": "code",
      "metadata": {
        "id": "cNyfD4_IpeV1",
        "outputId": "2962b8ef-f633-4f7f-f7a3-7715d0942b84",
        "colab": {
          "base_uri": "https://localhost:8080/",
          "height": 34
        }
      },
      "source": [
        "df.shape"
      ],
      "execution_count": 4,
      "outputs": [
        {
          "output_type": "execute_result",
          "data": {
            "text/plain": [
              "(12190, 6)"
            ]
          },
          "metadata": {
            "tags": []
          },
          "execution_count": 4
        }
      ]
    },
    {
      "cell_type": "code",
      "metadata": {
        "id": "qDFnEetmph-A",
        "outputId": "14416fbc-96f6-4912-d533-9531c0fa0b55",
        "colab": {
          "base_uri": "https://localhost:8080/",
          "height": 517
        }
      },
      "source": [
        "\n",
        "plt.figure(figsize=(16,8))\n",
        "plt.title('Close Price History')\n",
        "plt.plot(df['Close'])\n",
        "plt.xlabel('Date', fontsize=18)\n",
        "plt.ylabel('close price USD ($))', fontsize=18)\n",
        "plt.show()\n"
      ],
      "execution_count": 5,
      "outputs": [
        {
          "output_type": "display_data",
          "data": {
            "image/png": "[encoded data removed]",
            "text/plain": [
              "<Figure size 1152x576 with 1 Axes>"
            ]
          },
          "metadata": {
            "tags": [],
            "needs_background": "light"
          }
        }
      ]
    },
    {
      "cell_type": "code",
      "metadata": {
        "id": "OKt3Y-LdrVdK",
        "outputId": "5e8999c3-9353-4b72-d202-b9aa7d93a6f2",
        "colab": {
          "base_uri": "https://localhost:8080/",
          "height": 34
        }
      },
      "source": [
        "#data = df\n",
        "data = df.filter(['Close'])\n",
        "dataset = data.values\n",
        "training_data_len = math.ceil(len(dataset)*.8)\n",
        "\n",
        "\n",
        "training_data_len\n",
        "\n"
      ],
      "execution_count": 6,
      "outputs": [
        {
          "output_type": "execute_result",
          "data": {
            "text/plain": [
              "9752"
            ]
          },
          "metadata": {
            "tags": []
          },
          "execution_count": 6
        }
      ]
    },
    {
      "cell_type": "code",
      "metadata": {
        "id": "OteJdABPr3ww",
        "outputId": "080b3b85-0ba4-4418-9e3f-a2e46fece7c2",
        "colab": {
          "base_uri": "https://localhost:8080/",
          "height": 141
        }
      },
      "source": [
        "scaler = MinMaxScaler(feature_range=(0,1))\n",
        "\n",
        "scaled_data = scaler.fit_transform(dataset)\n",
        "\n",
        "scaled_data"
      ],
      "execution_count": 7,
      "outputs": [
        {
          "output_type": "execute_result",
          "data": {
            "text/plain": [
              "array([[0.04192544],\n",
              "       [0.04181281],\n",
              "       [0.04181281],\n",
              "       ...,\n",
              "       [0.16793306],\n",
              "       [0.16543333],\n",
              "       [0.16696095]])"
            ]
          },
          "metadata": {
            "tags": []
          },
          "execution_count": 7
        }
      ]
    },
    {
      "cell_type": "code",
      "metadata": {
        "id": "J4rAdUY4wQrP",
        "outputId": "661d4c15-ffec-4e23-af5a-b5552609e932",
        "colab": {
          "base_uri": "https://localhost:8080/",
          "height": 265
        }
      },
      "source": [
        "train_data = scaled_data[0:training_data_len , :]\n",
        "\n",
        "x_train = []\n",
        "y_train = []\n",
        "\n",
        "for i in range(60, len(train_data)):\n",
        "  x_train.append(train_data[i-60:i, 0])\n",
        "  y_train.append(train_data[i, 0])\n",
        "  if i<= 60 :\n",
        "    print(x_train)\n",
        "    print(y_train)\n",
        "    print()"
      ],
      "execution_count": 8,
      "outputs": [
        {
          "output_type": "stream",
          "text": [
            "[array([0.04192544, 0.04181281, 0.04181281, 0.04113705, 0.04079917,\n",
            "       0.04034866, 0.04001078, 0.04001078, 0.04046128, 0.04136231,\n",
            "       0.04113705, 0.04136231, 0.04102443, 0.04124968, 0.04068654,\n",
            "       0.04034866, 0.04023603, 0.04001078, 0.04046128, 0.04034866,\n",
            "       0.0401234 , 0.0396729 , 0.03944764, 0.03910976, 0.03978552,\n",
            "       0.03956027, 0.03888451, 0.03854663, 0.03809612, 0.03809612,\n",
            "       0.03798349, 0.03798349, 0.03854663, 0.03888451, 0.03809612,\n",
            "       0.03888451, 0.04046128, 0.04023603, 0.04001078, 0.03978552,\n",
            "       0.04034866, 0.04034866, 0.04034866, 0.04113705, 0.0421507 ,\n",
            "       0.04237595, 0.04248858, 0.04226332, 0.04136231, 0.04147493,\n",
            "       0.04192544, 0.04226332, 0.04181281, 0.04023603, 0.04124968,\n",
            "       0.04124968, 0.04147493, 0.04237595, 0.04474112, 0.0438401 ])]\n",
            "[0.0430517112340797]\n",
            "\n"
          ],
          "name": "stdout"
        }
      ]
    },
    {
      "cell_type": "code",
      "metadata": {
        "id": "eGf8nORLxUHA"
      },
      "source": [
        "x_train, y_train = np.array(x_train), np.array(y_train)"
      ],
      "execution_count": 9,
      "outputs": []
    },
    {
      "cell_type": "code",
      "metadata": {
        "id": "h7dQQJmjxdA3",
        "outputId": "35fe5c22-aee5-4702-d1fe-fdc7eceff3c8",
        "colab": {
          "base_uri": "https://localhost:8080/",
          "height": 34
        }
      },
      "source": [
        "x_train = np.reshape(x_train, (x_train.shape[0], x_train.shape[1], 1))\n",
        "x_train.shape"
      ],
      "execution_count": 10,
      "outputs": [
        {
          "output_type": "execute_result",
          "data": {
            "text/plain": [
              "(9692, 60, 1)"
            ]
          },
          "metadata": {
            "tags": []
          },
          "execution_count": 10
        }
      ]
    },
    {
      "cell_type": "code",
      "metadata": {
        "id": "81MRpPsZx8EQ"
      },
      "source": [
        "#model = Sequential()\n",
        "#model.add(LSTM(100, return_sequences=True, input_shape= (x_train.shape[1], 1)))\n",
        "#model.add(LSTM(100, return_sequences= False))\n",
        "#model.add(Dense(50))\n",
        "#model.add(Dense(1))"
      ],
      "execution_count": 11,
      "outputs": []
    },
    {
      "cell_type": "code",
      "metadata": {
        "id": "fULXw3xavLaK"
      },
      "source": [
        "model = Sequential()\n",
        "model.add(LSTM(50, return_sequences=True, input_shape= (x_train.shape[1], 1)))\n",
        "model.add(LSTM(50, return_sequences= False))\n",
        "model.add(Dense(25))\n",
        "model.add(Dense(1))"
      ],
      "execution_count": 12,
      "outputs": []
    },
    {
      "cell_type": "code",
      "metadata": {
        "id": "s2T2DSwvy7il"
      },
      "source": [
        "model.compile(optimizer='adam', loss='mean_squared_error', metrics='accuracy' )\n"
      ],
      "execution_count": 13,
      "outputs": []
    },
    {
      "cell_type": "code",
      "metadata": {
        "id": "RoHCOz4aAOs-",
        "outputId": "2ad9a398-0a82-47f2-d8e7-212849ad79b0",
        "colab": {
          "base_uri": "https://localhost:8080/",
          "height": 372
        }
      },
      "source": [
        "rmse= 100\n",
        "while ( rmse >= 0.3):     \n",
        "  model.fit(x_train, y_train, validation_data=(x_train, y_train) ,batch_size=100 , epochs=1)\n",
        "  test_data = scaled_data[training_data_len - 60: , :]\n",
        "  x_test = []\n",
        "  y_test = dataset[training_data_len:, :]\n",
        "  for i in range(60, len(test_data)):\n",
        "    x_test.append(test_data[i-60:i, 0])\n",
        "  y_test.size\n",
        "  x_test = np.array(x_test)\n",
        "  x_test = np.reshape(x_test, (x_test.shape[0],x_test.shape[1], 1 ))\n",
        "  Predictions = model.predict(x_test)\n",
        "  Predictions = scaler.inverse_transform(Predictions)\n",
        "  rmse=np.sqrt(np.mean(((Predictions- y_test)**2)))\n",
        "  rmse"
      ],
      "execution_count": 14,
      "outputs": [
        {
          "output_type": "stream",
          "text": [
            "97/97 [==============================] - 12s 119ms/step - loss: 0.0029 - accuracy: 2.0636e-04 - val_loss: 2.4205e-04 - val_accuracy: 2.0636e-04\n",
            "97/97 [==============================] - 11s 110ms/step - loss: 2.3419e-04 - accuracy: 2.0636e-04 - val_loss: 2.1996e-04 - val_accuracy: 2.0636e-04\n",
            "97/97 [==============================] - 11s 110ms/step - loss: 2.1211e-04 - accuracy: 2.0636e-04 - val_loss: 2.0148e-04 - val_accuracy: 2.0636e-04\n",
            "97/97 [==============================] - 11s 110ms/step - loss: 2.1199e-04 - accuracy: 2.0636e-04 - val_loss: 1.8638e-04 - val_accuracy: 2.0636e-04\n",
            "97/97 [==============================] - 11s 111ms/step - loss: 1.7912e-04 - accuracy: 2.0636e-04 - val_loss: 1.6224e-04 - val_accuracy: 2.0636e-04\n",
            "97/97 [==============================] - 11s 111ms/step - loss: 1.6587e-04 - accuracy: 2.0636e-04 - val_loss: 2.2418e-04 - val_accuracy: 2.0636e-04\n",
            "97/97 [==============================] - 11s 111ms/step - loss: 1.7184e-04 - accuracy: 2.0636e-04 - val_loss: 1.4175e-04 - val_accuracy: 2.0636e-04\n",
            "97/97 [==============================] - 11s 110ms/step - loss: 1.4724e-04 - accuracy: 2.0636e-04 - val_loss: 1.4666e-04 - val_accuracy: 2.0636e-04\n",
            "97/97 [==============================] - 11s 111ms/step - loss: 1.3882e-04 - accuracy: 2.0636e-04 - val_loss: 1.3333e-04 - val_accuracy: 2.0636e-04\n",
            "97/97 [==============================] - 11s 110ms/step - loss: 1.4280e-04 - accuracy: 2.0636e-04 - val_loss: 2.7468e-04 - val_accuracy: 2.0636e-04\n",
            "97/97 [==============================] - 11s 113ms/step - loss: 1.3996e-04 - accuracy: 2.0636e-04 - val_loss: 1.1302e-04 - val_accuracy: 2.0636e-04\n",
            "97/97 [==============================] - 11s 111ms/step - loss: 1.3123e-04 - accuracy: 2.0636e-04 - val_loss: 1.2777e-04 - val_accuracy: 2.0636e-04\n",
            "97/97 [==============================] - 11s 109ms/step - loss: 1.2417e-04 - accuracy: 2.0636e-04 - val_loss: 1.1829e-04 - val_accuracy: 2.0636e-04\n",
            "97/97 [==============================] - 11s 110ms/step - loss: 1.0470e-04 - accuracy: 2.0636e-04 - val_loss: 1.0961e-04 - val_accuracy: 2.0636e-04\n",
            "97/97 [==============================] - 11s 111ms/step - loss: 1.0808e-04 - accuracy: 2.0636e-04 - val_loss: 1.0430e-04 - val_accuracy: 2.0636e-04\n",
            "97/97 [==============================] - 11s 111ms/step - loss: 1.1587e-04 - accuracy: 2.0636e-04 - val_loss: 9.0358e-05 - val_accuracy: 2.0636e-04\n",
            "97/97 [==============================] - 11s 113ms/step - loss: 9.7930e-05 - accuracy: 2.0636e-04 - val_loss: 8.5966e-05 - val_accuracy: 2.0636e-04\n",
            "97/97 [==============================] - 11s 112ms/step - loss: 1.0842e-04 - accuracy: 2.0636e-04 - val_loss: 9.2480e-05 - val_accuracy: 2.0636e-04\n",
            "97/97 [==============================] - 12s 125ms/step - loss: 9.9860e-05 - accuracy: 2.0636e-04 - val_loss: 9.0626e-05 - val_accuracy: 2.0636e-04\n",
            "97/97 [==============================] - 12s 126ms/step - loss: 1.0009e-04 - accuracy: 2.0636e-04 - val_loss: 7.7612e-05 - val_accuracy: 2.0636e-04\n"
          ],
          "name": "stdout"
        }
      ]
    },
    {
      "cell_type": "code",
      "metadata": {
        "id": "0h13NjIc7X-C"
      },
      "source": [
        "#acc_callback = AccuracyStopping(0.05)\n",
        "#model.fit(x_train, y_train, validation_data=(x_train, y_train) ,batch_size=1 , epochs=10)\n",
        "#model.fit(x_train, y_train, batch_size=1000, epochs=1000)"
      ],
      "execution_count": 15,
      "outputs": []
    },
    {
      "cell_type": "code",
      "metadata": {
        "id": "dhG1i88RzNmV"
      },
      "source": [
        "#model.fit(x_train, y_train, batch_size=1, epochs=100)\n",
        "#model.fit(x_train, y_train, batch_size=1, epochs=100)"
      ],
      "execution_count": 16,
      "outputs": []
    },
    {
      "cell_type": "code",
      "metadata": {
        "id": "mBveL7KXzuvI",
        "outputId": "cbbd5ca9-fb3f-4709-8d08-444c2b32a324",
        "colab": {
          "base_uri": "https://localhost:8080/",
          "height": 34
        }
      },
      "source": [
        "test_data = scaled_data[training_data_len - 60: , :]\n",
        "\n",
        "x_test = []\n",
        "y_test = dataset[training_data_len:, :]\n",
        "\n",
        "for i in range(60, len(test_data)):\n",
        "  x_test.append(test_data[i-60:i, 0])\n",
        "\n",
        "y_test.size\n",
        " \n",
        "\n"
      ],
      "execution_count": 17,
      "outputs": [
        {
          "output_type": "execute_result",
          "data": {
            "text/plain": [
              "2438"
            ]
          },
          "metadata": {
            "tags": []
          },
          "execution_count": 17
        }
      ]
    },
    {
      "cell_type": "code",
      "metadata": {
        "id": "LxPLvSyb0RA_"
      },
      "source": [
        "x_test = np.array(x_test)\n"
      ],
      "execution_count": 18,
      "outputs": []
    },
    {
      "cell_type": "code",
      "metadata": {
        "id": "yC8dhgEs0boM"
      },
      "source": [
        "x_test = np.reshape(x_test, (x_test.shape[0],x_test.shape[1], 1 ))\n"
      ],
      "execution_count": 19,
      "outputs": []
    },
    {
      "cell_type": "code",
      "metadata": {
        "id": "oBjT_3nn2mav"
      },
      "source": [
        "#Prediction \n",
        "Predictions = model.predict(x_test)\n",
        "Predictions = scaler.inverse_transform(Predictions)"
      ],
      "execution_count": 20,
      "outputs": []
    },
    {
      "cell_type": "code",
      "metadata": {
        "id": "A4ZxEWOE04fM",
        "outputId": "9519cc2e-d677-4ef4-8fca-a44298320fe2",
        "colab": {
          "base_uri": "https://localhost:8080/",
          "height": 34
        }
      },
      "source": [
        "rmse=np.sqrt(np.mean(((Predictions- y_test)**2)))\n",
        "rmse"
      ],
      "execution_count": 21,
      "outputs": [
        {
          "output_type": "execute_result",
          "data": {
            "text/plain": [
              "0.29301145291704195"
            ]
          },
          "metadata": {
            "tags": []
          },
          "execution_count": 21
        }
      ]
    },
    {
      "cell_type": "code",
      "metadata": {
        "id": "SXNZ3kBo4CDF",
        "outputId": "30ff0798-93ae-425f-f681-1ca4362295ce",
        "colab": {
          "base_uri": "https://localhost:8080/",
          "height": 624
        }
      },
      "source": [
        "train = data[:training_data_len]\n",
        "valid = data[training_data_len:]\n",
        "valid['Predictions'] = Predictions\n",
        "\n",
        "plt.figure(figsize=(16,8))\n",
        "plt.title('Model')\n",
        "plt.xlabel('Date',fontsize=18 )\n",
        "plt.ylabel('Close price0' , fontsize=18 )\n",
        "plt.plot(train['Close'])\n",
        "plt.plot(valid[['Close', 'Predictions']])\n",
        "plt.legend(['Train', 'Val','Predictions'], loc='lower right')\n",
        "plt.show()\n"
      ],
      "execution_count": 22,
      "outputs": [
        {
          "output_type": "stream",
          "text": [
            "/usr/local/lib/python3.6/dist-packages/ipykernel_launcher.py:3: SettingWithCopyWarning: \n",
            "A value is trying to be set on a copy of a slice from a DataFrame.\n",
            "Try using .loc[row_indexer,col_indexer] = value instead\n",
            "\n",
            "See the caveats in the documentation: https://pandas.pydata.org/pandas-docs/stable/user_guide/indexing.html#returning-a-view-versus-a-copy\n",
            "  This is separate from the ipykernel package so we can avoid doing imports until\n"
          ],
          "name": "stderr"
        },
        {
          "output_type": "display_data",
          "data": {
            "image/png": "[encoded data removed]",
            "text/plain": [
              "<Figure size 1152x576 with 1 Axes>"
            ]
          },
          "metadata": {
            "tags": [],
            "needs_background": "light"
          }
        }
      ]
    },
    {
      "cell_type": "code",
      "metadata": {
        "id": "0YsuaPiqHmvW"
      },
      "source": [
        ""
      ],
      "execution_count": 22,
      "outputs": []
    },
    {
      "cell_type": "code",
      "metadata": {
        "id": "qVziBvaPAZ2y",
        "outputId": "18d35e3d-c53e-4c24-ecc6-b9669a3e797c",
        "colab": {
          "base_uri": "https://localhost:8080/",
          "height": 436
        }
      },
      "source": [
        "valid"
      ],
      "execution_count": 23,
      "outputs": [
        {
          "output_type": "execute_result",
          "data": {
            "text/html": [
              "<div>\n",
              "<style scoped>\n",
              "    .dataframe tbody tr th:only-of-type {\n",
              "        vertical-align: middle;\n",
              "    }\n",
              "\n",
              "    .dataframe tbody tr th {\n",
              "        vertical-align: top;\n",
              "    }\n",
              "\n",
              "    .dataframe thead th {\n",
              "        text-align: right;\n",
              "    }\n",
              "</style>\n",
              "<table border=\"1\" class=\"dataframe\">\n",
              "  <thead>\n",
              "    <tr style=\"text-align: right;\">\n",
              "      <th></th>\n",
              "      <th>Close</th>\n",
              "      <th>Predictions</th>\n",
              "    </tr>\n",
              "    <tr>\n",
              "      <th>Date</th>\n",
              "      <th></th>\n",
              "      <th></th>\n",
              "    </tr>\n",
              "  </thead>\n",
              "  <tbody>\n",
              "    <tr>\n",
              "      <th>2011-01-25</th>\n",
              "      <td>17.889999</td>\n",
              "      <td>17.856297</td>\n",
              "    </tr>\n",
              "    <tr>\n",
              "      <th>2011-01-26</th>\n",
              "      <td>18.370001</td>\n",
              "      <td>17.803463</td>\n",
              "    </tr>\n",
              "    <tr>\n",
              "      <th>2011-01-27</th>\n",
              "      <td>18.790001</td>\n",
              "      <td>17.935808</td>\n",
              "    </tr>\n",
              "    <tr>\n",
              "      <th>2011-01-28</th>\n",
              "      <td>16.270000</td>\n",
              "      <td>18.229450</td>\n",
              "    </tr>\n",
              "    <tr>\n",
              "      <th>2011-01-31</th>\n",
              "      <td>15.950000</td>\n",
              "      <td>17.749578</td>\n",
              "    </tr>\n",
              "    <tr>\n",
              "      <th>...</th>\n",
              "      <td>...</td>\n",
              "      <td>...</td>\n",
              "    </tr>\n",
              "    <tr>\n",
              "      <th>2020-09-24</th>\n",
              "      <td>6.660000</td>\n",
              "      <td>6.878279</td>\n",
              "    </tr>\n",
              "    <tr>\n",
              "      <th>2020-09-25</th>\n",
              "      <td>6.510000</td>\n",
              "      <td>6.776588</td>\n",
              "    </tr>\n",
              "    <tr>\n",
              "      <th>2020-09-28</th>\n",
              "      <td>6.690000</td>\n",
              "      <td>6.670063</td>\n",
              "    </tr>\n",
              "    <tr>\n",
              "      <th>2020-09-29</th>\n",
              "      <td>6.600000</td>\n",
              "      <td>6.621076</td>\n",
              "    </tr>\n",
              "    <tr>\n",
              "      <th>2020-09-30</th>\n",
              "      <td>6.655000</td>\n",
              "      <td>6.587824</td>\n",
              "    </tr>\n",
              "  </tbody>\n",
              "</table>\n",
              "<p>2438 rows × 2 columns</p>\n",
              "</div>"
            ],
            "text/plain": [
              "                Close  Predictions\n",
              "Date                              \n",
              "2011-01-25  17.889999    17.856297\n",
              "2011-01-26  18.370001    17.803463\n",
              "2011-01-27  18.790001    17.935808\n",
              "2011-01-28  16.270000    18.229450\n",
              "2011-01-31  15.950000    17.749578\n",
              "...               ...          ...\n",
              "2020-09-24   6.660000     6.878279\n",
              "2020-09-25   6.510000     6.776588\n",
              "2020-09-28   6.690000     6.670063\n",
              "2020-09-29   6.600000     6.621076\n",
              "2020-09-30   6.655000     6.587824\n",
              "\n",
              "[2438 rows x 2 columns]"
            ]
          },
          "metadata": {
            "tags": []
          },
          "execution_count": 23
        }
      ]
    },
    {
      "cell_type": "code",
      "metadata": {
        "id": "s18QN816AguO",
        "outputId": "3d8320ab-593d-445c-d06f-7b71988082da",
        "colab": {
          "base_uri": "https://localhost:8080/",
          "height": 34
        }
      },
      "source": [
        "\n",
        "stock_qoute = web.DataReader(stock, data_source='yahoo',start = startdate, end = enddate)\n",
        "\n",
        "new_df = stock_qoute.filter(['Close'])\n",
        "last_60_days = new_df[-60:].values\n",
        "\n",
        "last_60_days_scaled = scaler.transform(last_60_days)\n",
        "\n",
        "x_test = [ ]\n",
        "x_test.append(last_60_days_scaled)\n",
        "\n",
        "x_test = np.array(x_test)\n",
        "\n",
        "x_test = np.reshape(x_test, (x_test.shape[0],x_test.shape[1], 1))\n",
        "\n",
        "pred_price= model.predict(x_test)\n",
        "\n",
        "pred_price = scaler.inverse_transform(pred_price)\n",
        "\n",
        "print(pred_price)\n"
      ],
      "execution_count": 24,
      "outputs": [
        {
          "output_type": "stream",
          "text": [
            "[[6.580796]]\n"
          ],
          "name": "stdout"
        }
      ]
    },
    {
      "cell_type": "code",
      "metadata": {
        "id": "sRA-ScMPCSwf",
        "outputId": "2462a61b-1072-4332-853c-089467ed84c5",
        "colab": {
          "base_uri": "https://localhost:8080/",
          "height": 247
        }
      },
      "source": [
        "stock_qoute2 = web.DataReader(stock, data_source='yahoo',start = startdate, end = enddate)\n",
        "print(stock_qoute2['Close'])"
      ],
      "execution_count": 25,
      "outputs": [
        {
          "output_type": "stream",
          "text": [
            "Date\n",
            "1972-06-01    2.153220\n",
            "1972-06-02    2.149165\n",
            "1972-06-05    2.149165\n",
            "1972-06-06    2.124835\n",
            "1972-06-07    2.112669\n",
            "                ...   \n",
            "2020-09-24    6.660000\n",
            "2020-09-25    6.510000\n",
            "2020-09-28    6.690000\n",
            "2020-09-29    6.600000\n",
            "2020-09-30    6.655000\n",
            "Name: Close, Length: 12190, dtype: float64\n"
          ],
          "name": "stdout"
        }
      ]
    }
  ]
}