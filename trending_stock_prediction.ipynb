{
  "nbformat": 4,
  "nbformat_minor": 0,
  "metadata": {
    "colab": {
      "name": "trending stock prediction.ipynb",
      "provenance": [],
      "collapsed_sections": [],
      "authorship_tag": "ABX9TyMsKh80LDjsS7djl2ciH1Ac",
      "include_colab_link": true
    },
    "kernelspec": {
      "name": "python3",
      "display_name": "Python 3"
    }
  },
  "cells": [
    {
      "cell_type": "markdown",
      "metadata": {
        "id": "view-in-github",
        "colab_type": "text"
      },
      "source": [
        "<a href=\"https://colab.research.google.com/github/itumor/colab/blob/master/trending_stock_prediction.ipynb\" target=\"_parent\"><img src=\"https://colab.research.google.com/assets/colab-badge.svg\" alt=\"Open In Colab\"/></a>"
      ]
    },
    {
      "cell_type": "markdown",
      "metadata": {
        "id": "x__aZqvdnsSJ"
      },
      "source": [
        "**Trending Stock Prediction**"
      ]
    },
    {
      "cell_type": "code",
      "metadata": {
        "id": "5Mn7ki3anuMk"
      },
      "source": [
        "from datetime import datetime\n",
        "import math\n",
        "import pandas_datareader as web\n",
        "import numpy as np\n",
        "import pandas as pd\n",
        "from sklearn.preprocessing import MinMaxScaler\n",
        "from keras.models import Sequential\n",
        "from keras.layers import Dense, LSTM\n",
        "import matplotlib.pyplot as plt\n",
        "plt.style.use('fivethirtyeight')\n"
      ],
      "execution_count": 1,
      "outputs": []
    },
    {
      "cell_type": "code",
      "metadata": {
        "id": "2h05nn-l_EV7"
      },
      "source": [
        "stock ='AAPL'\n",
        "startdate = '1900-01-01'\n",
        "enddate = datetime.today().strftime('%Y-%m-%d')"
      ],
      "execution_count": 2,
      "outputs": []
    },
    {
      "cell_type": "code",
      "metadata": {
        "id": "cisrhqp1o2bq",
        "outputId": "054c4f17-8bc4-42d9-e70a-0caf714ac03e",
        "colab": {
          "base_uri": "https://localhost:8080/",
          "height": 436
        }
      },
      "source": [
        "df = web.DataReader(stock, data_source='yahoo',start = startdate, end = enddate)\n",
        "df"
      ],
      "execution_count": 3,
      "outputs": [
        {
          "output_type": "execute_result",
          "data": {
            "text/html": [
              "<div>\n",
              "<style scoped>\n",
              "    .dataframe tbody tr th:only-of-type {\n",
              "        vertical-align: middle;\n",
              "    }\n",
              "\n",
              "    .dataframe tbody tr th {\n",
              "        vertical-align: top;\n",
              "    }\n",
              "\n",
              "    .dataframe thead th {\n",
              "        text-align: right;\n",
              "    }\n",
              "</style>\n",
              "<table border=\"1\" class=\"dataframe\">\n",
              "  <thead>\n",
              "    <tr style=\"text-align: right;\">\n",
              "      <th></th>\n",
              "      <th>High</th>\n",
              "      <th>Low</th>\n",
              "      <th>Open</th>\n",
              "      <th>Close</th>\n",
              "      <th>Volume</th>\n",
              "      <th>Adj Close</th>\n",
              "    </tr>\n",
              "    <tr>\n",
              "      <th>Date</th>\n",
              "      <th></th>\n",
              "      <th></th>\n",
              "      <th></th>\n",
              "      <th></th>\n",
              "      <th></th>\n",
              "      <th></th>\n",
              "    </tr>\n",
              "  </thead>\n",
              "  <tbody>\n",
              "    <tr>\n",
              "      <th>1980-12-12</th>\n",
              "      <td>0.128906</td>\n",
              "      <td>0.128348</td>\n",
              "      <td>0.128348</td>\n",
              "      <td>0.128348</td>\n",
              "      <td>469033600.0</td>\n",
              "      <td>0.101261</td>\n",
              "    </tr>\n",
              "    <tr>\n",
              "      <th>1980-12-15</th>\n",
              "      <td>0.122210</td>\n",
              "      <td>0.121652</td>\n",
              "      <td>0.122210</td>\n",
              "      <td>0.121652</td>\n",
              "      <td>175884800.0</td>\n",
              "      <td>0.095978</td>\n",
              "    </tr>\n",
              "    <tr>\n",
              "      <th>1980-12-16</th>\n",
              "      <td>0.113281</td>\n",
              "      <td>0.112723</td>\n",
              "      <td>0.113281</td>\n",
              "      <td>0.112723</td>\n",
              "      <td>105728000.0</td>\n",
              "      <td>0.088934</td>\n",
              "    </tr>\n",
              "    <tr>\n",
              "      <th>1980-12-17</th>\n",
              "      <td>0.116071</td>\n",
              "      <td>0.115513</td>\n",
              "      <td>0.115513</td>\n",
              "      <td>0.115513</td>\n",
              "      <td>86441600.0</td>\n",
              "      <td>0.091135</td>\n",
              "    </tr>\n",
              "    <tr>\n",
              "      <th>1980-12-18</th>\n",
              "      <td>0.119420</td>\n",
              "      <td>0.118862</td>\n",
              "      <td>0.118862</td>\n",
              "      <td>0.118862</td>\n",
              "      <td>73449600.0</td>\n",
              "      <td>0.093777</td>\n",
              "    </tr>\n",
              "    <tr>\n",
              "      <th>...</th>\n",
              "      <td>...</td>\n",
              "      <td>...</td>\n",
              "      <td>...</td>\n",
              "      <td>...</td>\n",
              "      <td>...</td>\n",
              "      <td>...</td>\n",
              "    </tr>\n",
              "    <tr>\n",
              "      <th>2020-09-24</th>\n",
              "      <td>110.250000</td>\n",
              "      <td>105.000000</td>\n",
              "      <td>105.169998</td>\n",
              "      <td>108.220001</td>\n",
              "      <td>167743300.0</td>\n",
              "      <td>108.220001</td>\n",
              "    </tr>\n",
              "    <tr>\n",
              "      <th>2020-09-25</th>\n",
              "      <td>112.440002</td>\n",
              "      <td>107.669998</td>\n",
              "      <td>108.430000</td>\n",
              "      <td>112.279999</td>\n",
              "      <td>149981400.0</td>\n",
              "      <td>112.279999</td>\n",
              "    </tr>\n",
              "    <tr>\n",
              "      <th>2020-09-28</th>\n",
              "      <td>115.320000</td>\n",
              "      <td>112.779999</td>\n",
              "      <td>115.010002</td>\n",
              "      <td>114.959999</td>\n",
              "      <td>137672400.0</td>\n",
              "      <td>114.959999</td>\n",
              "    </tr>\n",
              "    <tr>\n",
              "      <th>2020-09-29</th>\n",
              "      <td>115.309998</td>\n",
              "      <td>113.570000</td>\n",
              "      <td>114.550003</td>\n",
              "      <td>114.089996</td>\n",
              "      <td>99382200.0</td>\n",
              "      <td>114.089996</td>\n",
              "    </tr>\n",
              "    <tr>\n",
              "      <th>2020-09-30</th>\n",
              "      <td>117.260002</td>\n",
              "      <td>113.620003</td>\n",
              "      <td>113.790001</td>\n",
              "      <td>115.339996</td>\n",
              "      <td>110127923.0</td>\n",
              "      <td>115.339996</td>\n",
              "    </tr>\n",
              "  </tbody>\n",
              "</table>\n",
              "<p>10035 rows × 6 columns</p>\n",
              "</div>"
            ],
            "text/plain": [
              "                  High         Low  ...       Volume   Adj Close\n",
              "Date                                ...                         \n",
              "1980-12-12    0.128906    0.128348  ...  469033600.0    0.101261\n",
              "1980-12-15    0.122210    0.121652  ...  175884800.0    0.095978\n",
              "1980-12-16    0.113281    0.112723  ...  105728000.0    0.088934\n",
              "1980-12-17    0.116071    0.115513  ...   86441600.0    0.091135\n",
              "1980-12-18    0.119420    0.118862  ...   73449600.0    0.093777\n",
              "...                ...         ...  ...          ...         ...\n",
              "2020-09-24  110.250000  105.000000  ...  167743300.0  108.220001\n",
              "2020-09-25  112.440002  107.669998  ...  149981400.0  112.279999\n",
              "2020-09-28  115.320000  112.779999  ...  137672400.0  114.959999\n",
              "2020-09-29  115.309998  113.570000  ...   99382200.0  114.089996\n",
              "2020-09-30  117.260002  113.620003  ...  110127923.0  115.339996\n",
              "\n",
              "[10035 rows x 6 columns]"
            ]
          },
          "metadata": {
            "tags": []
          },
          "execution_count": 3
        }
      ]
    },
    {
      "cell_type": "code",
      "metadata": {
        "id": "cNyfD4_IpeV1",
        "outputId": "f74b9793-9ae1-4627-93e1-37c6f3f056ac",
        "colab": {
          "base_uri": "https://localhost:8080/",
          "height": 34
        }
      },
      "source": [
        "df.shape"
      ],
      "execution_count": 4,
      "outputs": [
        {
          "output_type": "execute_result",
          "data": {
            "text/plain": [
              "(10035, 6)"
            ]
          },
          "metadata": {
            "tags": []
          },
          "execution_count": 4
        }
      ]
    },
    {
      "cell_type": "code",
      "metadata": {
        "id": "qDFnEetmph-A",
        "outputId": "961f0f1a-4f00-4335-c521-94b05ebe72db",
        "colab": {
          "base_uri": "https://localhost:8080/",
          "height": 517
        }
      },
      "source": [
        "\n",
        "plt.figure(figsize=(16,8))\n",
        "plt.title('Close Price History')\n",
        "plt.plot(df['Close'])\n",
        "plt.xlabel('Date', fontsize=18)\n",
        "plt.ylabel('close price USD ($))', fontsize=18)\n",
        "plt.show()\n"
      ],
      "execution_count": 5,
      "outputs": [
        {
          "output_type": "display_data",
          "data": {
            "image/png": "[encoded data removed]",
            "text/plain": [
              "<Figure size 1152x576 with 1 Axes>"
            ]
          },
          "metadata": {
            "tags": [],
            "needs_background": "light"
          }
        }
      ]
    },
    {
      "cell_type": "code",
      "metadata": {
        "id": "OKt3Y-LdrVdK",
        "outputId": "1beefbff-12c6-48d2-c05a-2f1b64a957bf",
        "colab": {
          "base_uri": "https://localhost:8080/",
          "height": 34
        }
      },
      "source": [
        "#data = df\n",
        "data = df.filter(['Close'])\n",
        "dataset = data.values\n",
        "training_data_len = math.ceil(len(dataset)*.8)\n",
        "\n",
        "\n",
        "training_data_len\n",
        "\n"
      ],
      "execution_count": 6,
      "outputs": [
        {
          "output_type": "execute_result",
          "data": {
            "text/plain": [
              "8028"
            ]
          },
          "metadata": {
            "tags": []
          },
          "execution_count": 6
        }
      ]
    },
    {
      "cell_type": "code",
      "metadata": {
        "id": "OteJdABPr3ww",
        "outputId": "2a6b6fb4-07e8-4d7a-dd7a-b86d6002f127",
        "colab": {
          "base_uri": "https://localhost:8080/",
          "height": 141
        }
      },
      "source": [
        "scaler = MinMaxScaler(feature_range=(0,1))\n",
        "\n",
        "scaled_data = scaler.fit_transform(dataset)\n",
        "\n",
        "scaled_data"
      ],
      "execution_count": 7,
      "outputs": [
        {
          "output_type": "execute_result",
          "data": {
            "text/plain": [
              "array([[5.90774260e-04],\n",
              "       [5.40849645e-04],\n",
              "       [4.74283565e-04],\n",
              "       ...,\n",
              "       [8.56707174e-01],\n",
              "       [8.50220952e-01],\n",
              "       [8.59540208e-01]])"
            ]
          },
          "metadata": {
            "tags": []
          },
          "execution_count": 7
        }
      ]
    },
    {
      "cell_type": "code",
      "metadata": {
        "id": "J4rAdUY4wQrP",
        "outputId": "6945535f-3819-4449-b81b-388a4c54909d",
        "colab": {
          "base_uri": "https://localhost:8080/",
          "height": 265
        }
      },
      "source": [
        "train_data = scaled_data[0:training_data_len , :]\n",
        "\n",
        "x_train = []\n",
        "y_train = []\n",
        "\n",
        "for i in range(60, len(train_data)):\n",
        "  x_train.append(train_data[i-60:i, 0])\n",
        "  y_train.append(train_data[i, 0])\n",
        "  if i<= 60 :\n",
        "    print(x_train)\n",
        "    print(y_train)\n",
        "    print()"
      ],
      "execution_count": 8,
      "outputs": [
        {
          "output_type": "stream",
          "text": [
            "[array([0.00059077, 0.00054085, 0.00047428, 0.00049509, 0.00052005,\n",
            "       0.00057413, 0.0006199 , 0.0006615 , 0.00071559, 0.00081543,\n",
            "       0.00083208, 0.00080295, 0.00076967, 0.00078215, 0.00075719,\n",
            "       0.00070726, 0.0006615 , 0.0006407 , 0.00069478, 0.00068646,\n",
            "       0.00064902, 0.00065318, 0.00067398, 0.00066566, 0.00072807,\n",
            "       0.00069478, 0.00071559, 0.00072807, 0.00072391, 0.00070726,\n",
            "       0.00069894, 0.00066566, 0.00062822, 0.00057413, 0.00052005,\n",
            "       0.00055333, 0.00058661, 0.00058661, 0.00059077, 0.00054085,\n",
            "       0.00054085, 0.00051173, 0.00050341, 0.0004826 , 0.00050341,\n",
            "       0.00054085, 0.00048676, 0.000441  , 0.00045348, 0.00042436,\n",
            "       0.00047428, 0.00048676, 0.00051589, 0.00052005, 0.00050757,\n",
            "       0.00049925, 0.00049509, 0.00048676, 0.0004202 , 0.00038276])]\n",
            "[0.0003536324493550665]\n",
            "\n"
          ],
          "name": "stdout"
        }
      ]
    },
    {
      "cell_type": "code",
      "metadata": {
        "id": "eGf8nORLxUHA"
      },
      "source": [
        "x_train, y_train = np.array(x_train), np.array(y_train)"
      ],
      "execution_count": 9,
      "outputs": []
    },
    {
      "cell_type": "code",
      "metadata": {
        "id": "h7dQQJmjxdA3",
        "outputId": "a2791f34-d6ce-4852-de66-b401e5650dbd",
        "colab": {
          "base_uri": "https://localhost:8080/",
          "height": 34
        }
      },
      "source": [
        "x_train = np.reshape(x_train, (x_train.shape[0], x_train.shape[1], 1))\n",
        "x_train.shape"
      ],
      "execution_count": 10,
      "outputs": [
        {
          "output_type": "execute_result",
          "data": {
            "text/plain": [
              "(7968, 60, 1)"
            ]
          },
          "metadata": {
            "tags": []
          },
          "execution_count": 10
        }
      ]
    },
    {
      "cell_type": "code",
      "metadata": {
        "id": "81MRpPsZx8EQ"
      },
      "source": [
        "#model = Sequential()\n",
        "#model.add(LSTM(100, return_sequences=True, input_shape= (x_train.shape[1], 1)))\n",
        "#model.add(LSTM(100, return_sequences= False))\n",
        "#model.add(Dense(50))\n",
        "#model.add(Dense(1))"
      ],
      "execution_count": 11,
      "outputs": []
    },
    {
      "cell_type": "code",
      "metadata": {
        "id": "fULXw3xavLaK"
      },
      "source": [
        "model = Sequential()\n",
        "model.add(LSTM(50, return_sequences=True, input_shape= (x_train.shape[1], 1)))\n",
        "model.add(LSTM(50, return_sequences= False))\n",
        "model.add(Dense(25))\n",
        "model.add(Dense(1))"
      ],
      "execution_count": 12,
      "outputs": []
    },
    {
      "cell_type": "code",
      "metadata": {
        "id": "s2T2DSwvy7il"
      },
      "source": [
        "model.compile(optimizer='adam', loss='mean_squared_error', metrics='accuracy' )\n"
      ],
      "execution_count": 13,
      "outputs": []
    },
    {
      "cell_type": "code",
      "metadata": {
        "id": "RoHCOz4aAOs-",
        "outputId": "67092dc2-c58b-4a36-e8e7-44ea9294f249",
        "colab": {
          "base_uri": "https://localhost:8080/",
          "height": 1000
        }
      },
      "source": [
        "rmse= 100\n",
        "while ( rmse >= 1):     \n",
        "  model.fit(x_train, y_train, validation_data=(x_train, y_train) ,batch_size=100 , epochs=1)\n",
        "  test_data = scaled_data[training_data_len - 60: , :]\n",
        "  x_test = []\n",
        "  y_test = dataset[training_data_len:, :]\n",
        "  for i in range(60, len(test_data)):\n",
        "    x_test.append(test_data[i-60:i, 0])\n",
        "  y_test.size\n",
        "  x_test = np.array(x_test)\n",
        "  x_test = np.reshape(x_test, (x_test.shape[0],x_test.shape[1], 1 ))\n",
        "  Predictions = model.predict(x_test)\n",
        "  Predictions = scaler.inverse_transform(Predictions)\n",
        "  rmse=np.sqrt(np.mean(((Predictions- y_test)**2)))\n",
        "  rmse"
      ],
      "execution_count": 14,
      "outputs": [
        {
          "output_type": "stream",
          "text": [
            "80/80 [==============================] - 10s 122ms/step - loss: 9.3266e-05 - accuracy: 1.2550e-04 - val_loss: 2.1521e-06 - val_accuracy: 1.2550e-04\n",
            "80/80 [==============================] - 9s 109ms/step - loss: 2.0240e-06 - accuracy: 1.2550e-04 - val_loss: 2.0037e-06 - val_accuracy: 1.2550e-04\n",
            "80/80 [==============================] - 9s 111ms/step - loss: 2.1596e-06 - accuracy: 1.2550e-04 - val_loss: 2.0217e-06 - val_accuracy: 1.2550e-04\n",
            "80/80 [==============================] - 9s 111ms/step - loss: 2.1897e-06 - accuracy: 1.2550e-04 - val_loss: 2.1156e-06 - val_accuracy: 1.2550e-04\n",
            "80/80 [==============================] - 9s 109ms/step - loss: 2.4200e-06 - accuracy: 1.2550e-04 - val_loss: 1.9208e-06 - val_accuracy: 1.2550e-04\n",
            "80/80 [==============================] - 9s 110ms/step - loss: 2.2873e-06 - accuracy: 1.2550e-04 - val_loss: 1.8102e-06 - val_accuracy: 1.2550e-04\n",
            "80/80 [==============================] - 9s 109ms/step - loss: 2.2059e-06 - accuracy: 1.2550e-04 - val_loss: 1.5862e-06 - val_accuracy: 1.2550e-04\n",
            "80/80 [==============================] - 9s 109ms/step - loss: 1.9868e-06 - accuracy: 1.2550e-04 - val_loss: 1.5395e-06 - val_accuracy: 1.2550e-04\n",
            "80/80 [==============================] - 9s 109ms/step - loss: 2.0435e-06 - accuracy: 1.2550e-04 - val_loss: 2.3225e-06 - val_accuracy: 1.2550e-04\n",
            "80/80 [==============================] - 9s 108ms/step - loss: 2.1686e-06 - accuracy: 1.2550e-04 - val_loss: 1.4726e-06 - val_accuracy: 1.2550e-04\n",
            "80/80 [==============================] - 9s 109ms/step - loss: 2.3517e-06 - accuracy: 1.2550e-04 - val_loss: 2.7658e-06 - val_accuracy: 1.2550e-04\n",
            "80/80 [==============================] - 9s 108ms/step - loss: 2.1481e-06 - accuracy: 1.2550e-04 - val_loss: 1.5606e-06 - val_accuracy: 1.2550e-04\n",
            "80/80 [==============================] - 9s 108ms/step - loss: 2.6801e-06 - accuracy: 1.2550e-04 - val_loss: 4.1606e-06 - val_accuracy: 1.2550e-04\n",
            "80/80 [==============================] - 9s 108ms/step - loss: 1.9028e-06 - accuracy: 1.2550e-04 - val_loss: 1.6598e-06 - val_accuracy: 1.2550e-04\n",
            "80/80 [==============================] - 9s 110ms/step - loss: 2.0263e-06 - accuracy: 1.2550e-04 - val_loss: 1.5800e-06 - val_accuracy: 1.2550e-04\n",
            "80/80 [==============================] - 9s 112ms/step - loss: 2.0923e-06 - accuracy: 1.2550e-04 - val_loss: 1.6988e-06 - val_accuracy: 1.2550e-04\n",
            "80/80 [==============================] - 9s 109ms/step - loss: 2.4559e-06 - accuracy: 1.2550e-04 - val_loss: 4.0380e-06 - val_accuracy: 1.2550e-04\n",
            "80/80 [==============================] - 9s 108ms/step - loss: 2.3755e-06 - accuracy: 1.2550e-04 - val_loss: 1.5935e-06 - val_accuracy: 1.2550e-04\n",
            "80/80 [==============================] - 9s 108ms/step - loss: 2.1254e-06 - accuracy: 1.2550e-04 - val_loss: 3.0492e-06 - val_accuracy: 1.2550e-04\n",
            "80/80 [==============================] - 9s 110ms/step - loss: 2.6493e-06 - accuracy: 1.2550e-04 - val_loss: 1.7448e-06 - val_accuracy: 1.2550e-04\n",
            "80/80 [==============================] - 9s 108ms/step - loss: 1.8754e-06 - accuracy: 1.2550e-04 - val_loss: 2.7722e-06 - val_accuracy: 1.2550e-04\n",
            "80/80 [==============================] - 9s 109ms/step - loss: 2.1077e-06 - accuracy: 1.2550e-04 - val_loss: 1.5392e-06 - val_accuracy: 1.2550e-04\n",
            "80/80 [==============================] - 9s 109ms/step - loss: 1.8457e-06 - accuracy: 1.2550e-04 - val_loss: 1.2903e-06 - val_accuracy: 1.2550e-04\n",
            "80/80 [==============================] - 9s 108ms/step - loss: 1.7536e-06 - accuracy: 1.2550e-04 - val_loss: 1.9823e-06 - val_accuracy: 1.2550e-04\n",
            "80/80 [==============================] - 9s 107ms/step - loss: 1.8815e-06 - accuracy: 1.2550e-04 - val_loss: 1.4688e-06 - val_accuracy: 1.2550e-04\n",
            "80/80 [==============================] - 9s 110ms/step - loss: 1.8666e-06 - accuracy: 1.2550e-04 - val_loss: 1.0878e-06 - val_accuracy: 1.2550e-04\n",
            "80/80 [==============================] - 12s 144ms/step - loss: 1.6319e-06 - accuracy: 1.2550e-04 - val_loss: 2.9931e-06 - val_accuracy: 1.2550e-04\n",
            "80/80 [==============================] - 9s 109ms/step - loss: 2.1572e-06 - accuracy: 1.2550e-04 - val_loss: 1.3191e-06 - val_accuracy: 1.2550e-04\n",
            "80/80 [==============================] - 9s 109ms/step - loss: 1.3820e-06 - accuracy: 1.2550e-04 - val_loss: 1.2939e-06 - val_accuracy: 1.2550e-04\n",
            "80/80 [==============================] - 9s 112ms/step - loss: 1.4232e-06 - accuracy: 1.2550e-04 - val_loss: 1.1723e-06 - val_accuracy: 1.2550e-04\n",
            "80/80 [==============================] - 9s 114ms/step - loss: 1.6295e-06 - accuracy: 1.2550e-04 - val_loss: 1.6760e-06 - val_accuracy: 1.2550e-04\n",
            "80/80 [==============================] - 9s 110ms/step - loss: 1.4935e-06 - accuracy: 1.2550e-04 - val_loss: 1.1413e-06 - val_accuracy: 1.2550e-04\n",
            "80/80 [==============================] - 9s 110ms/step - loss: 1.9119e-06 - accuracy: 1.2550e-04 - val_loss: 1.5101e-06 - val_accuracy: 1.2550e-04\n",
            "80/80 [==============================] - 9s 108ms/step - loss: 1.3718e-06 - accuracy: 1.2550e-04 - val_loss: 1.3500e-06 - val_accuracy: 1.2550e-04\n",
            "80/80 [==============================] - 9s 110ms/step - loss: 1.5575e-06 - accuracy: 1.2550e-04 - val_loss: 1.3243e-06 - val_accuracy: 1.2550e-04\n",
            "80/80 [==============================] - 9s 110ms/step - loss: 1.6794e-06 - accuracy: 1.2550e-04 - val_loss: 3.0589e-06 - val_accuracy: 1.2550e-04\n",
            "80/80 [==============================] - 9s 107ms/step - loss: 2.3159e-06 - accuracy: 1.2550e-04 - val_loss: 2.0801e-06 - val_accuracy: 1.2550e-04\n",
            "80/80 [==============================] - 9s 110ms/step - loss: 1.6676e-06 - accuracy: 1.2550e-04 - val_loss: 1.2129e-06 - val_accuracy: 1.2550e-04\n",
            "80/80 [==============================] - 9s 109ms/step - loss: 1.3437e-06 - accuracy: 1.2550e-04 - val_loss: 1.1006e-06 - val_accuracy: 1.2550e-04\n",
            "80/80 [==============================] - 9s 109ms/step - loss: 1.2513e-06 - accuracy: 1.2550e-04 - val_loss: 1.0898e-06 - val_accuracy: 1.2550e-04\n",
            "80/80 [==============================] - 9s 108ms/step - loss: 1.3747e-06 - accuracy: 1.2550e-04 - val_loss: 9.5078e-07 - val_accuracy: 1.2550e-04\n",
            "80/80 [==============================] - 9s 110ms/step - loss: 1.2527e-06 - accuracy: 1.2550e-04 - val_loss: 9.4740e-07 - val_accuracy: 1.2550e-04\n",
            "80/80 [==============================] - 9s 109ms/step - loss: 1.2610e-06 - accuracy: 1.2550e-04 - val_loss: 1.0657e-06 - val_accuracy: 1.2550e-04\n",
            "80/80 [==============================] - 9s 110ms/step - loss: 1.5898e-06 - accuracy: 1.2550e-04 - val_loss: 1.0478e-06 - val_accuracy: 1.2550e-04\n",
            "80/80 [==============================] - 9s 110ms/step - loss: 1.8305e-06 - accuracy: 1.2550e-04 - val_loss: 1.6556e-06 - val_accuracy: 1.2550e-04\n",
            "80/80 [==============================] - 9s 111ms/step - loss: 2.1482e-06 - accuracy: 1.2550e-04 - val_loss: 1.6048e-06 - val_accuracy: 1.2550e-04\n",
            "80/80 [==============================] - 9s 115ms/step - loss: 1.3735e-06 - accuracy: 1.2550e-04 - val_loss: 1.7676e-06 - val_accuracy: 1.2550e-04\n",
            "80/80 [==============================] - 9s 112ms/step - loss: 1.4004e-06 - accuracy: 1.2550e-04 - val_loss: 9.5953e-07 - val_accuracy: 1.2550e-04\n",
            "80/80 [==============================] - 9s 112ms/step - loss: 1.2242e-06 - accuracy: 1.2550e-04 - val_loss: 1.2815e-06 - val_accuracy: 1.2550e-04\n",
            "80/80 [==============================] - 9s 113ms/step - loss: 1.1417e-06 - accuracy: 1.2550e-04 - val_loss: 1.1467e-06 - val_accuracy: 1.2550e-04\n",
            "80/80 [==============================] - 9s 113ms/step - loss: 1.1979e-06 - accuracy: 1.2550e-04 - val_loss: 1.0334e-06 - val_accuracy: 1.2550e-04\n",
            "80/80 [==============================] - 9s 115ms/step - loss: 1.0571e-06 - accuracy: 1.2550e-04 - val_loss: 1.3251e-06 - val_accuracy: 1.2550e-04\n",
            "80/80 [==============================] - 9s 113ms/step - loss: 1.3306e-06 - accuracy: 1.2550e-04 - val_loss: 8.4809e-07 - val_accuracy: 1.2550e-04\n",
            "80/80 [==============================] - 9s 114ms/step - loss: 1.2758e-06 - accuracy: 1.2550e-04 - val_loss: 1.5607e-06 - val_accuracy: 1.2550e-04\n",
            "80/80 [==============================] - 9s 112ms/step - loss: 1.4000e-06 - accuracy: 1.2550e-04 - val_loss: 7.2954e-07 - val_accuracy: 1.2550e-04\n",
            "80/80 [==============================] - 9s 115ms/step - loss: 1.3069e-06 - accuracy: 1.2550e-04 - val_loss: 1.0065e-06 - val_accuracy: 1.2550e-04\n",
            "80/80 [==============================] - 9s 112ms/step - loss: 1.0701e-06 - accuracy: 1.2550e-04 - val_loss: 2.2016e-06 - val_accuracy: 1.2550e-04\n",
            "80/80 [==============================] - 9s 112ms/step - loss: 1.2536e-06 - accuracy: 1.2550e-04 - val_loss: 1.7452e-06 - val_accuracy: 1.2550e-04\n",
            "80/80 [==============================] - 9s 112ms/step - loss: 1.1337e-06 - accuracy: 1.2550e-04 - val_loss: 1.2833e-06 - val_accuracy: 1.2550e-04\n",
            "80/80 [==============================] - 9s 113ms/step - loss: 9.7179e-07 - accuracy: 1.2550e-04 - val_loss: 1.1839e-06 - val_accuracy: 1.2550e-04\n",
            "80/80 [==============================] - 9s 111ms/step - loss: 1.3058e-06 - accuracy: 1.2550e-04 - val_loss: 8.7928e-07 - val_accuracy: 1.2550e-04\n",
            "80/80 [==============================] - 9s 117ms/step - loss: 1.2086e-06 - accuracy: 1.2550e-04 - val_loss: 7.7339e-07 - val_accuracy: 1.2550e-04\n",
            "80/80 [==============================] - 9s 112ms/step - loss: 9.4991e-07 - accuracy: 1.2550e-04 - val_loss: 7.7619e-07 - val_accuracy: 1.2550e-04\n",
            "80/80 [==============================] - 9s 110ms/step - loss: 1.1247e-06 - accuracy: 1.2550e-04 - val_loss: 1.2008e-06 - val_accuracy: 1.2550e-04\n",
            "80/80 [==============================] - 9s 112ms/step - loss: 1.2131e-06 - accuracy: 1.2550e-04 - val_loss: 1.2899e-06 - val_accuracy: 1.2550e-04\n",
            "80/80 [==============================] - 9s 111ms/step - loss: 2.1060e-06 - accuracy: 1.2550e-04 - val_loss: 7.3211e-07 - val_accuracy: 1.2550e-04\n",
            "80/80 [==============================] - 9s 112ms/step - loss: 8.0688e-07 - accuracy: 1.2550e-04 - val_loss: 6.9872e-07 - val_accuracy: 1.2550e-04\n",
            "80/80 [==============================] - 9s 111ms/step - loss: 9.5739e-07 - accuracy: 1.2550e-04 - val_loss: 1.6991e-06 - val_accuracy: 1.2550e-04\n",
            "80/80 [==============================] - 9s 110ms/step - loss: 1.0380e-06 - accuracy: 1.2550e-04 - val_loss: 9.7329e-07 - val_accuracy: 1.2550e-04\n",
            "80/80 [==============================] - 9s 110ms/step - loss: 9.5377e-07 - accuracy: 1.2550e-04 - val_loss: 7.8846e-07 - val_accuracy: 1.2550e-04\n",
            "80/80 [==============================] - 9s 111ms/step - loss: 1.2588e-06 - accuracy: 1.2550e-04 - val_loss: 6.8623e-07 - val_accuracy: 1.2550e-04\n",
            "80/80 [==============================] - 9s 111ms/step - loss: 1.1533e-06 - accuracy: 1.2550e-04 - val_loss: 6.7082e-07 - val_accuracy: 1.2550e-04\n",
            "80/80 [==============================] - 9s 110ms/step - loss: 1.1509e-06 - accuracy: 1.2550e-04 - val_loss: 1.4082e-06 - val_accuracy: 1.2550e-04\n",
            "80/80 [==============================] - 9s 111ms/step - loss: 9.5460e-07 - accuracy: 1.2550e-04 - val_loss: 8.8949e-07 - val_accuracy: 1.2550e-04\n",
            "80/80 [==============================] - 9s 109ms/step - loss: 7.4588e-07 - accuracy: 1.2550e-04 - val_loss: 7.6290e-07 - val_accuracy: 1.2550e-04\n",
            "80/80 [==============================] - 9s 110ms/step - loss: 8.9916e-07 - accuracy: 1.2550e-04 - val_loss: 5.7477e-07 - val_accuracy: 1.2550e-04\n",
            "80/80 [==============================] - 9s 109ms/step - loss: 9.4663e-07 - accuracy: 1.2550e-04 - val_loss: 6.4829e-07 - val_accuracy: 1.2550e-04\n",
            "80/80 [==============================] - 9s 115ms/step - loss: 9.6073e-07 - accuracy: 1.2550e-04 - val_loss: 6.1756e-07 - val_accuracy: 1.2550e-04\n",
            "80/80 [==============================] - 9s 110ms/step - loss: 1.2164e-06 - accuracy: 1.2550e-04 - val_loss: 9.5530e-07 - val_accuracy: 1.2550e-04\n",
            "80/80 [==============================] - 9s 111ms/step - loss: 9.1569e-07 - accuracy: 1.2550e-04 - val_loss: 1.1898e-06 - val_accuracy: 1.2550e-04\n",
            "80/80 [==============================] - 9s 111ms/step - loss: 9.3955e-07 - accuracy: 1.2550e-04 - val_loss: 2.2764e-06 - val_accuracy: 1.2550e-04\n",
            "80/80 [==============================] - 9s 110ms/step - loss: 9.3215e-07 - accuracy: 1.2550e-04 - val_loss: 6.3254e-07 - val_accuracy: 1.2550e-04\n",
            "80/80 [==============================] - 9s 109ms/step - loss: 7.1640e-07 - accuracy: 1.2550e-04 - val_loss: 1.1661e-06 - val_accuracy: 1.2550e-04\n",
            "80/80 [==============================] - 9s 110ms/step - loss: 9.3249e-07 - accuracy: 1.2550e-04 - val_loss: 7.9295e-07 - val_accuracy: 1.2550e-04\n",
            "80/80 [==============================] - 9s 110ms/step - loss: 7.3964e-07 - accuracy: 1.2550e-04 - val_loss: 5.4688e-07 - val_accuracy: 1.2550e-04\n",
            "80/80 [==============================] - 9s 110ms/step - loss: 7.9960e-07 - accuracy: 1.2550e-04 - val_loss: 1.3786e-06 - val_accuracy: 1.2550e-04\n",
            "80/80 [==============================] - 9s 107ms/step - loss: 7.6355e-07 - accuracy: 1.2550e-04 - val_loss: 5.9513e-07 - val_accuracy: 1.2550e-04\n",
            "80/80 [==============================] - 11s 143ms/step - loss: 1.1527e-06 - accuracy: 1.2550e-04 - val_loss: 1.1356e-06 - val_accuracy: 1.2550e-04\n",
            "80/80 [==============================] - 9s 110ms/step - loss: 1.1398e-06 - accuracy: 1.2550e-04 - val_loss: 1.7811e-06 - val_accuracy: 1.2550e-04\n",
            "80/80 [==============================] - 9s 111ms/step - loss: 9.5896e-07 - accuracy: 1.2550e-04 - val_loss: 6.0659e-07 - val_accuracy: 1.2550e-04\n",
            "80/80 [==============================] - 9s 110ms/step - loss: 9.6424e-07 - accuracy: 1.2550e-04 - val_loss: 8.9369e-07 - val_accuracy: 1.2550e-04\n",
            "80/80 [==============================] - 9s 111ms/step - loss: 9.6906e-07 - accuracy: 1.2550e-04 - val_loss: 1.5881e-06 - val_accuracy: 1.2550e-04\n",
            "80/80 [==============================] - 9s 112ms/step - loss: 8.7153e-07 - accuracy: 1.2550e-04 - val_loss: 6.5418e-07 - val_accuracy: 1.2550e-04\n",
            "80/80 [==============================] - 9s 112ms/step - loss: 7.8206e-07 - accuracy: 1.2550e-04 - val_loss: 7.7792e-07 - val_accuracy: 1.2550e-04\n",
            "80/80 [==============================] - 9s 109ms/step - loss: 7.9596e-07 - accuracy: 1.2550e-04 - val_loss: 8.1954e-07 - val_accuracy: 1.2550e-04\n",
            "80/80 [==============================] - 9s 108ms/step - loss: 7.7041e-07 - accuracy: 1.2550e-04 - val_loss: 5.1542e-07 - val_accuracy: 1.2550e-04\n",
            "80/80 [==============================] - 9s 109ms/step - loss: 8.2407e-07 - accuracy: 1.2550e-04 - val_loss: 4.8641e-07 - val_accuracy: 1.2550e-04\n",
            "80/80 [==============================] - 9s 108ms/step - loss: 9.6654e-07 - accuracy: 1.2550e-04 - val_loss: 6.5980e-07 - val_accuracy: 1.2550e-04\n",
            "80/80 [==============================] - 9s 109ms/step - loss: 7.0009e-07 - accuracy: 1.2550e-04 - val_loss: 1.0026e-06 - val_accuracy: 1.2550e-04\n",
            "80/80 [==============================] - 9s 111ms/step - loss: 1.3166e-06 - accuracy: 1.2550e-04 - val_loss: 9.3962e-07 - val_accuracy: 1.2550e-04\n",
            "80/80 [==============================] - 9s 109ms/step - loss: 8.7805e-07 - accuracy: 1.2550e-04 - val_loss: 1.0808e-06 - val_accuracy: 1.2550e-04\n",
            "80/80 [==============================] - 9s 109ms/step - loss: 7.7816e-07 - accuracy: 1.2550e-04 - val_loss: 1.3352e-06 - val_accuracy: 1.2550e-04\n",
            "80/80 [==============================] - 9s 109ms/step - loss: 1.0996e-06 - accuracy: 1.2550e-04 - val_loss: 8.8904e-07 - val_accuracy: 1.2550e-04\n",
            "80/80 [==============================] - 9s 110ms/step - loss: 9.3448e-07 - accuracy: 1.2550e-04 - val_loss: 1.3079e-06 - val_accuracy: 1.2550e-04\n",
            "80/80 [==============================] - 9s 110ms/step - loss: 8.8368e-07 - accuracy: 1.2550e-04 - val_loss: 1.3265e-06 - val_accuracy: 1.2550e-04\n",
            "80/80 [==============================] - 9s 110ms/step - loss: 8.9179e-07 - accuracy: 1.2550e-04 - val_loss: 4.8983e-07 - val_accuracy: 1.2550e-04\n",
            "80/80 [==============================] - 9s 108ms/step - loss: 8.2910e-07 - accuracy: 1.2550e-04 - val_loss: 6.7996e-07 - val_accuracy: 1.2550e-04\n",
            "80/80 [==============================] - 9s 109ms/step - loss: 8.0746e-07 - accuracy: 1.2550e-04 - val_loss: 4.6296e-07 - val_accuracy: 1.2550e-04\n",
            "80/80 [==============================] - 9s 114ms/step - loss: 6.4532e-07 - accuracy: 1.2550e-04 - val_loss: 4.7059e-07 - val_accuracy: 1.2550e-04\n",
            "80/80 [==============================] - 9s 108ms/step - loss: 5.9690e-07 - accuracy: 1.2550e-04 - val_loss: 5.3112e-07 - val_accuracy: 1.2550e-04\n"
          ],
          "name": "stdout"
        }
      ]
    },
    {
      "cell_type": "code",
      "metadata": {
        "id": "0h13NjIc7X-C"
      },
      "source": [
        "#acc_callback = AccuracyStopping(0.05)\n",
        "#model.fit(x_train, y_train, validation_data=(x_train, y_train) ,batch_size=1 , epochs=10)\n",
        "#model.fit(x_train, y_train, batch_size=1000, epochs=1000)"
      ],
      "execution_count": 15,
      "outputs": []
    },
    {
      "cell_type": "code",
      "metadata": {
        "id": "dhG1i88RzNmV"
      },
      "source": [
        "#model.fit(x_train, y_train, batch_size=1, epochs=100)\n",
        "#model.fit(x_train, y_train, batch_size=1, epochs=100)"
      ],
      "execution_count": 16,
      "outputs": []
    },
    {
      "cell_type": "code",
      "metadata": {
        "id": "mBveL7KXzuvI",
        "outputId": "fc702e05-f4ba-437b-c883-213147e157ed",
        "colab": {
          "base_uri": "https://localhost:8080/",
          "height": 34
        }
      },
      "source": [
        "test_data = scaled_data[training_data_len - 60: , :]\n",
        "\n",
        "x_test = []\n",
        "y_test = dataset[training_data_len:, :]\n",
        "\n",
        "for i in range(60, len(test_data)):\n",
        "  x_test.append(test_data[i-60:i, 0])\n",
        "\n",
        "y_test.size\n",
        " \n",
        "\n"
      ],
      "execution_count": 17,
      "outputs": [
        {
          "output_type": "execute_result",
          "data": {
            "text/plain": [
              "2007"
            ]
          },
          "metadata": {
            "tags": []
          },
          "execution_count": 17
        }
      ]
    },
    {
      "cell_type": "code",
      "metadata": {
        "id": "LxPLvSyb0RA_"
      },
      "source": [
        "x_test = np.array(x_test)\n"
      ],
      "execution_count": 18,
      "outputs": []
    },
    {
      "cell_type": "code",
      "metadata": {
        "id": "yC8dhgEs0boM"
      },
      "source": [
        "x_test = np.reshape(x_test, (x_test.shape[0],x_test.shape[1], 1 ))\n"
      ],
      "execution_count": 19,
      "outputs": []
    },
    {
      "cell_type": "code",
      "metadata": {
        "id": "oBjT_3nn2mav"
      },
      "source": [
        "#Prediction \n",
        "Predictions = model.predict(x_test)\n",
        "Predictions = scaler.inverse_transform(Predictions)"
      ],
      "execution_count": 20,
      "outputs": []
    },
    {
      "cell_type": "code",
      "metadata": {
        "id": "A4ZxEWOE04fM",
        "outputId": "a75d5655-68bd-444f-c002-2ea4b5107c48",
        "colab": {
          "base_uri": "https://localhost:8080/",
          "height": 34
        }
      },
      "source": [
        "rmse=np.sqrt(np.mean(((Predictions- y_test)**2)))\n",
        "rmse"
      ],
      "execution_count": 21,
      "outputs": [
        {
          "output_type": "execute_result",
          "data": {
            "text/plain": [
              "0.9965206183312054"
            ]
          },
          "metadata": {
            "tags": []
          },
          "execution_count": 21
        }
      ]
    },
    {
      "cell_type": "code",
      "metadata": {
        "id": "SXNZ3kBo4CDF",
        "outputId": "ee13ea93-a1e0-4756-d560-bd42fd763c6c",
        "colab": {
          "base_uri": "https://localhost:8080/",
          "height": 624
        }
      },
      "source": [
        "train = data[:training_data_len]\n",
        "valid = data[training_data_len:]\n",
        "valid['Predictions'] = Predictions\n",
        "\n",
        "plt.figure(figsize=(16,8))\n",
        "plt.title('Model')\n",
        "plt.xlabel('Date',fontsize=18 )\n",
        "plt.ylabel('Close price0' , fontsize=18 )\n",
        "plt.plot(train['Close'])\n",
        "plt.plot(valid[['Close', 'Predictions']])\n",
        "plt.legend(['Train', 'Val','Predictions'], loc='lower right')\n",
        "plt.show()\n"
      ],
      "execution_count": 22,
      "outputs": [
        {
          "output_type": "stream",
          "text": [
            "/usr/local/lib/python3.6/dist-packages/ipykernel_launcher.py:3: SettingWithCopyWarning: \n",
            "A value is trying to be set on a copy of a slice from a DataFrame.\n",
            "Try using .loc[row_indexer,col_indexer] = value instead\n",
            "\n",
            "See the caveats in the documentation: https://pandas.pydata.org/pandas-docs/stable/user_guide/indexing.html#returning-a-view-versus-a-copy\n",
            "  This is separate from the ipykernel package so we can avoid doing imports until\n"
          ],
          "name": "stderr"
        },
        {
          "output_type": "display_data",
          "data": {
            "image/png": "[encoded data removed]",
            "text/plain": [
              "<Figure size 1152x576 with 1 Axes>"
            ]
          },
          "metadata": {
            "tags": [],
            "needs_background": "light"
          }
        }
      ]
    },
    {
      "cell_type": "code",
      "metadata": {
        "id": "0YsuaPiqHmvW"
      },
      "source": [
        ""
      ],
      "execution_count": 22,
      "outputs": []
    },
    {
      "cell_type": "code",
      "metadata": {
        "id": "qVziBvaPAZ2y",
        "outputId": "5624c7dc-1905-437b-efb8-453a44b540fa",
        "colab": {
          "base_uri": "https://localhost:8080/",
          "height": 436
        }
      },
      "source": [
        "valid"
      ],
      "execution_count": 23,
      "outputs": [
        {
          "output_type": "execute_result",
          "data": {
            "text/html": [
              "<div>\n",
              "<style scoped>\n",
              "    .dataframe tbody tr th:only-of-type {\n",
              "        vertical-align: middle;\n",
              "    }\n",
              "\n",
              "    .dataframe tbody tr th {\n",
              "        vertical-align: top;\n",
              "    }\n",
              "\n",
              "    .dataframe thead th {\n",
              "        text-align: right;\n",
              "    }\n",
              "</style>\n",
              "<table border=\"1\" class=\"dataframe\">\n",
              "  <thead>\n",
              "    <tr style=\"text-align: right;\">\n",
              "      <th></th>\n",
              "      <th>Close</th>\n",
              "      <th>Predictions</th>\n",
              "    </tr>\n",
              "    <tr>\n",
              "      <th>Date</th>\n",
              "      <th></th>\n",
              "      <th></th>\n",
              "    </tr>\n",
              "  </thead>\n",
              "  <tbody>\n",
              "    <tr>\n",
              "      <th>2012-10-09</th>\n",
              "      <td>22.708929</td>\n",
              "      <td>23.099384</td>\n",
              "    </tr>\n",
              "    <tr>\n",
              "      <th>2012-10-10</th>\n",
              "      <td>22.889643</td>\n",
              "      <td>22.824486</td>\n",
              "    </tr>\n",
              "    <tr>\n",
              "      <th>2012-10-11</th>\n",
              "      <td>22.432142</td>\n",
              "      <td>22.883673</td>\n",
              "    </tr>\n",
              "    <tr>\n",
              "      <th>2012-10-12</th>\n",
              "      <td>22.489643</td>\n",
              "      <td>22.662462</td>\n",
              "    </tr>\n",
              "    <tr>\n",
              "      <th>2012-10-15</th>\n",
              "      <td>22.670000</td>\n",
              "      <td>22.594812</td>\n",
              "    </tr>\n",
              "    <tr>\n",
              "      <th>...</th>\n",
              "      <td>...</td>\n",
              "      <td>...</td>\n",
              "    </tr>\n",
              "    <tr>\n",
              "      <th>2020-09-24</th>\n",
              "      <td>108.220001</td>\n",
              "      <td>108.084206</td>\n",
              "    </tr>\n",
              "    <tr>\n",
              "      <th>2020-09-25</th>\n",
              "      <td>112.279999</td>\n",
              "      <td>107.523788</td>\n",
              "    </tr>\n",
              "    <tr>\n",
              "      <th>2020-09-28</th>\n",
              "      <td>114.959999</td>\n",
              "      <td>110.217865</td>\n",
              "    </tr>\n",
              "    <tr>\n",
              "      <th>2020-09-29</th>\n",
              "      <td>114.089996</td>\n",
              "      <td>113.407127</td>\n",
              "    </tr>\n",
              "    <tr>\n",
              "      <th>2020-09-30</th>\n",
              "      <td>115.339996</td>\n",
              "      <td>114.006866</td>\n",
              "    </tr>\n",
              "  </tbody>\n",
              "</table>\n",
              "<p>2007 rows × 2 columns</p>\n",
              "</div>"
            ],
            "text/plain": [
              "                 Close  Predictions\n",
              "Date                               \n",
              "2012-10-09   22.708929    23.099384\n",
              "2012-10-10   22.889643    22.824486\n",
              "2012-10-11   22.432142    22.883673\n",
              "2012-10-12   22.489643    22.662462\n",
              "2012-10-15   22.670000    22.594812\n",
              "...                ...          ...\n",
              "2020-09-24  108.220001   108.084206\n",
              "2020-09-25  112.279999   107.523788\n",
              "2020-09-28  114.959999   110.217865\n",
              "2020-09-29  114.089996   113.407127\n",
              "2020-09-30  115.339996   114.006866\n",
              "\n",
              "[2007 rows x 2 columns]"
            ]
          },
          "metadata": {
            "tags": []
          },
          "execution_count": 23
        }
      ]
    },
    {
      "cell_type": "code",
      "metadata": {
        "id": "s18QN816AguO",
        "outputId": "8bf3be7d-1a4b-4a77-9cc9-a8fd30c8f0f7",
        "colab": {
          "base_uri": "https://localhost:8080/",
          "height": 34
        }
      },
      "source": [
        "\n",
        "stock_qoute = web.DataReader(stock, data_source='yahoo',start = startdate, end = enddate)\n",
        "\n",
        "new_df = stock_qoute.filter(['Close'])\n",
        "last_60_days = new_df[-60:].values\n",
        "\n",
        "last_60_days_scaled = scaler.transform(last_60_days)\n",
        "\n",
        "x_test = [ ]\n",
        "x_test.append(last_60_days_scaled)\n",
        "\n",
        "x_test = np.array(x_test)\n",
        "\n",
        "x_test = np.reshape(x_test, (x_test.shape[0],x_test.shape[1], 1))\n",
        "\n",
        "pred_price= model.predict(x_test)\n",
        "\n",
        "pred_price = scaler.inverse_transform(pred_price)\n",
        "\n",
        "print(pred_price)\n"
      ],
      "execution_count": 24,
      "outputs": [
        {
          "output_type": "stream",
          "text": [
            "[[115.08669]]\n"
          ],
          "name": "stdout"
        }
      ]
    },
    {
      "cell_type": "code",
      "metadata": {
        "id": "sRA-ScMPCSwf",
        "outputId": "03833584-493c-4044-c734-9cc27cffc9ab",
        "colab": {
          "base_uri": "https://localhost:8080/",
          "height": 247
        }
      },
      "source": [
        "stock_qoute2 = web.DataReader(stock, data_source='yahoo',start = startdate, end = enddate)\n",
        "print(stock_qoute2['Close'])"
      ],
      "execution_count": 25,
      "outputs": [
        {
          "output_type": "stream",
          "text": [
            "Date\n",
            "1980-12-12      0.128348\n",
            "1980-12-15      0.121652\n",
            "1980-12-16      0.112723\n",
            "1980-12-17      0.115513\n",
            "1980-12-18      0.118862\n",
            "                 ...    \n",
            "2020-09-24    108.220001\n",
            "2020-09-25    112.279999\n",
            "2020-09-28    114.959999\n",
            "2020-09-29    114.089996\n",
            "2020-09-30    116.032204\n",
            "Name: Close, Length: 10035, dtype: float64\n"
          ],
          "name": "stdout"
        }
      ]
    }
  ]
}