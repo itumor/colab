{
  "nbformat": 4,
  "nbformat_minor": 0,
  "metadata": {
    "colab": {
      "name": "trending stock prediction.ipynb",
      "provenance": [],
      "collapsed_sections": [],
      "authorship_tag": "ABX9TyMsKh80LDjsS7djl2ciH1Ac",
      "include_colab_link": true
    },
    "kernelspec": {
      "name": "python3",
      "display_name": "Python 3"
    }
  },
  "cells": [
    {
      "cell_type": "markdown",
      "metadata": {
        "id": "view-in-github",
        "colab_type": "text"
      },
      "source": [
        "<a href=\"https://colab.research.google.com/github/itumor/colab/blob/master/trending_stock_prediction.ipynb\" target=\"_parent\"><img src=\"https://colab.research.google.com/assets/colab-badge.svg\" alt=\"Open In Colab\"/></a>"
      ]
    },
    {
      "cell_type": "markdown",
      "metadata": {
        "id": "x__aZqvdnsSJ"
      },
      "source": [
        "**Trending Stock Prediction**"
      ]
    },
    {
      "cell_type": "code",
      "metadata": {
        "id": "5Mn7ki3anuMk"
      },
      "source": [
        "from datetime import datetime\n",
        "import math\n",
        "import pandas_datareader as web\n",
        "import numpy as np\n",
        "import pandas as pd\n",
        "from sklearn.preprocessing import MinMaxScaler\n",
        "from keras.models import Sequential\n",
        "from keras.layers import Dense, LSTM\n",
        "import matplotlib.pyplot as plt\n",
        "plt.style.use('fivethirtyeight')\n"
      ],
      "execution_count": 29,
      "outputs": []
    },
    {
      "cell_type": "code",
      "metadata": {
        "id": "2h05nn-l_EV7"
      },
      "source": [
        "stock ='AAPL'\n",
        "startdate = '1900-01-01'\n",
        "enddate = datetime.today().strftime('%Y-%m-%d')"
      ],
      "execution_count": 30,
      "outputs": []
    },
    {
      "cell_type": "code",
      "metadata": {
        "id": "cisrhqp1o2bq",
        "outputId": "98162d3e-79df-41e4-ffe0-8b2f67805efc",
        "colab": {
          "base_uri": "https://localhost:8080/",
          "height": 436
        }
      },
      "source": [
        "df = web.DataReader(stock, data_source='yahoo',start = startdate, end = enddate)\n",
        "df"
      ],
      "execution_count": 31,
      "outputs": [
        {
          "output_type": "execute_result",
          "data": {
            "text/html": [
              "<div>\n",
              "<style scoped>\n",
              "    .dataframe tbody tr th:only-of-type {\n",
              "        vertical-align: middle;\n",
              "    }\n",
              "\n",
              "    .dataframe tbody tr th {\n",
              "        vertical-align: top;\n",
              "    }\n",
              "\n",
              "    .dataframe thead th {\n",
              "        text-align: right;\n",
              "    }\n",
              "</style>\n",
              "<table border=\"1\" class=\"dataframe\">\n",
              "  <thead>\n",
              "    <tr style=\"text-align: right;\">\n",
              "      <th></th>\n",
              "      <th>High</th>\n",
              "      <th>Low</th>\n",
              "      <th>Open</th>\n",
              "      <th>Close</th>\n",
              "      <th>Volume</th>\n",
              "      <th>Adj Close</th>\n",
              "    </tr>\n",
              "    <tr>\n",
              "      <th>Date</th>\n",
              "      <th></th>\n",
              "      <th></th>\n",
              "      <th></th>\n",
              "      <th></th>\n",
              "      <th></th>\n",
              "      <th></th>\n",
              "    </tr>\n",
              "  </thead>\n",
              "  <tbody>\n",
              "    <tr>\n",
              "      <th>2002-05-23</th>\n",
              "      <td>1.242857</td>\n",
              "      <td>1.145714</td>\n",
              "      <td>1.156429</td>\n",
              "      <td>1.196429</td>\n",
              "      <td>104790000.0</td>\n",
              "      <td>1.196429</td>\n",
              "    </tr>\n",
              "    <tr>\n",
              "      <th>2002-05-24</th>\n",
              "      <td>1.225000</td>\n",
              "      <td>1.197143</td>\n",
              "      <td>1.214286</td>\n",
              "      <td>1.210000</td>\n",
              "      <td>11104800.0</td>\n",
              "      <td>1.210000</td>\n",
              "    </tr>\n",
              "    <tr>\n",
              "      <th>2002-05-28</th>\n",
              "      <td>1.232143</td>\n",
              "      <td>1.157143</td>\n",
              "      <td>1.213571</td>\n",
              "      <td>1.157143</td>\n",
              "      <td>6609400.0</td>\n",
              "      <td>1.157143</td>\n",
              "    </tr>\n",
              "    <tr>\n",
              "      <th>2002-05-29</th>\n",
              "      <td>1.164286</td>\n",
              "      <td>1.085714</td>\n",
              "      <td>1.164286</td>\n",
              "      <td>1.103571</td>\n",
              "      <td>6757800.0</td>\n",
              "      <td>1.103571</td>\n",
              "    </tr>\n",
              "    <tr>\n",
              "      <th>2002-05-30</th>\n",
              "      <td>1.107857</td>\n",
              "      <td>1.071429</td>\n",
              "      <td>1.107857</td>\n",
              "      <td>1.071429</td>\n",
              "      <td>10154200.0</td>\n",
              "      <td>1.071429</td>\n",
              "    </tr>\n",
              "    <tr>\n",
              "      <th>...</th>\n",
              "      <td>...</td>\n",
              "      <td>...</td>\n",
              "      <td>...</td>\n",
              "      <td>...</td>\n",
              "      <td>...</td>\n",
              "      <td>...</td>\n",
              "    </tr>\n",
              "    <tr>\n",
              "      <th>2020-09-24</th>\n",
              "      <td>477.000000</td>\n",
              "      <td>467.820007</td>\n",
              "      <td>470.529999</td>\n",
              "      <td>473.079987</td>\n",
              "      <td>3727200.0</td>\n",
              "      <td>473.079987</td>\n",
              "    </tr>\n",
              "    <tr>\n",
              "      <th>2020-09-25</th>\n",
              "      <td>484.869995</td>\n",
              "      <td>468.029999</td>\n",
              "      <td>474.390015</td>\n",
              "      <td>482.880005</td>\n",
              "      <td>3769400.0</td>\n",
              "      <td>482.880005</td>\n",
              "    </tr>\n",
              "    <tr>\n",
              "      <th>2020-09-28</th>\n",
              "      <td>492.000000</td>\n",
              "      <td>477.880005</td>\n",
              "      <td>489.109985</td>\n",
              "      <td>490.649994</td>\n",
              "      <td>4773500.0</td>\n",
              "      <td>490.649994</td>\n",
              "    </tr>\n",
              "    <tr>\n",
              "      <th>2020-09-29</th>\n",
              "      <td>496.290009</td>\n",
              "      <td>486.529999</td>\n",
              "      <td>489.500000</td>\n",
              "      <td>493.480011</td>\n",
              "      <td>3541500.0</td>\n",
              "      <td>493.480011</td>\n",
              "    </tr>\n",
              "    <tr>\n",
              "      <th>2020-09-30</th>\n",
              "      <td>504.629913</td>\n",
              "      <td>489.270386</td>\n",
              "      <td>492.570007</td>\n",
              "      <td>504.119995</td>\n",
              "      <td>2560701.0</td>\n",
              "      <td>504.119995</td>\n",
              "    </tr>\n",
              "  </tbody>\n",
              "</table>\n",
              "<p>4622 rows × 6 columns</p>\n",
              "</div>"
            ],
            "text/plain": [
              "                  High         Low  ...       Volume   Adj Close\n",
              "Date                                ...                         \n",
              "2002-05-23    1.242857    1.145714  ...  104790000.0    1.196429\n",
              "2002-05-24    1.225000    1.197143  ...   11104800.0    1.210000\n",
              "2002-05-28    1.232143    1.157143  ...    6609400.0    1.157143\n",
              "2002-05-29    1.164286    1.085714  ...    6757800.0    1.103571\n",
              "2002-05-30    1.107857    1.071429  ...   10154200.0    1.071429\n",
              "...                ...         ...  ...          ...         ...\n",
              "2020-09-24  477.000000  467.820007  ...    3727200.0  473.079987\n",
              "2020-09-25  484.869995  468.029999  ...    3769400.0  482.880005\n",
              "2020-09-28  492.000000  477.880005  ...    4773500.0  490.649994\n",
              "2020-09-29  496.290009  486.529999  ...    3541500.0  493.480011\n",
              "2020-09-30  504.629913  489.270386  ...    2560701.0  504.119995\n",
              "\n",
              "[4622 rows x 6 columns]"
            ]
          },
          "metadata": {
            "tags": []
          },
          "execution_count": 31
        }
      ]
    },
    {
      "cell_type": "code",
      "metadata": {
        "id": "cNyfD4_IpeV1",
        "outputId": "3b1f7620-ab17-4f35-ff9a-14e9c866c763",
        "colab": {
          "base_uri": "https://localhost:8080/",
          "height": 34
        }
      },
      "source": [
        "df.shape"
      ],
      "execution_count": 32,
      "outputs": [
        {
          "output_type": "execute_result",
          "data": {
            "text/plain": [
              "(4622, 6)"
            ]
          },
          "metadata": {
            "tags": []
          },
          "execution_count": 32
        }
      ]
    },
    {
      "cell_type": "code",
      "metadata": {
        "id": "qDFnEetmph-A",
        "outputId": "417dc25c-57b4-49e0-8af2-fe75e7792e8b",
        "colab": {
          "base_uri": "https://localhost:8080/",
          "height": 557
        }
      },
      "source": [
        "\n",
        "plt.figure(figsize=(16,8))\n",
        "plt.title('Close Price History')\n",
        "plt.plot(df['Close'])\n",
        "plt.xlabel('Date', fontsize=18)\n",
        "plt.ylabel('close price USD ($))', fontsize=18)\n",
        "plt.show()\n"
      ],
      "execution_count": 33,
      "outputs": [
        {
          "output_type": "display_data",
          "data": {
            "image/png": "[encoded data removed]",
            "text/plain": [
              "<Figure size 1152x576 with 1 Axes>"
            ]
          },
          "metadata": {
            "tags": []
          }
        }
      ]
    },
    {
      "cell_type": "code",
      "metadata": {
        "id": "OKt3Y-LdrVdK",
        "outputId": "c94eb35d-da60-4640-ce61-ee44efdcf2d2",
        "colab": {
          "base_uri": "https://localhost:8080/",
          "height": 34
        }
      },
      "source": [
        "#data = df\n",
        "data = df.filter(['Close'])\n",
        "dataset = data.values\n",
        "training_data_len = math.ceil(len(dataset)*.8)\n",
        "\n",
        "\n",
        "training_data_len\n",
        "\n"
      ],
      "execution_count": 34,
      "outputs": [
        {
          "output_type": "execute_result",
          "data": {
            "text/plain": [
              "3698"
            ]
          },
          "metadata": {
            "tags": []
          },
          "execution_count": 34
        }
      ]
    },
    {
      "cell_type": "code",
      "metadata": {
        "id": "OteJdABPr3ww",
        "outputId": "2f3ca247-867c-4323-bce0-13123109de91",
        "colab": {
          "base_uri": "https://localhost:8080/",
          "height": 141
        }
      },
      "source": [
        "scaler = MinMaxScaler(feature_range=(0,1))\n",
        "\n",
        "scaled_data = scaler.fit_transform(dataset)\n",
        "\n",
        "scaled_data"
      ],
      "execution_count": 35,
      "outputs": [
        {
          "output_type": "execute_result",
          "data": {
            "text/plain": [
              "array([[0.00148077],\n",
              "       [0.00150517],\n",
              "       [0.00141014],\n",
              "       ...,\n",
              "       [0.88151258],\n",
              "       [0.88660092],\n",
              "       [0.90573148]])"
            ]
          },
          "metadata": {
            "tags": []
          },
          "execution_count": 35
        }
      ]
    },
    {
      "cell_type": "code",
      "metadata": {
        "id": "J4rAdUY4wQrP",
        "outputId": "4869495d-d0fc-4a39-ac50-aa7ca967847c",
        "colab": {
          "base_uri": "https://localhost:8080/",
          "height": 265
        }
      },
      "source": [
        "train_data = scaled_data[0:training_data_len , :]\n",
        "\n",
        "x_train = []\n",
        "y_train = []\n",
        "\n",
        "for i in range(60, len(train_data)):\n",
        "  x_train.append(train_data[i-60:i, 0])\n",
        "  y_train.append(train_data[i, 0])\n",
        "  if i<= 60 :\n",
        "    print(x_train)\n",
        "    print(y_train)\n",
        "    print()"
      ],
      "execution_count": 36,
      "outputs": [
        {
          "output_type": "stream",
          "text": [
            "[array([0.00148077, 0.00150517, 0.00141014, 0.00131382, 0.00125602,\n",
            "       0.00126501, 0.00135877, 0.0013395 , 0.00139216, 0.00145509,\n",
            "       0.00134079, 0.00140885, 0.00140372, 0.00129455, 0.00127657,\n",
            "       0.00110319, 0.00098761, 0.00096706, 0.00104026, 0.00105054,\n",
            "       0.00109035, 0.00108907, 0.00106338, 0.00110705, 0.00102614,\n",
            "       0.00112631, 0.00117768, 0.00143839, 0.00151288, 0.00162461,\n",
            "       0.00144353, 0.00141656, 0.0014217 , 0.00161177, 0.00150132,\n",
            "       0.00138445, 0.00135491, 0.00128813, 0.00139601, 0.00141527,\n",
            "       0.00143454, 0.00139087, 0.00133308, 0.00119309, 0.00089643,\n",
            "       0.00090542, 0.00097348, 0.00104412, 0.00093239, 0.00072819,\n",
            "       0.00072305, 0.00069736, 0.00075644, 0.00076158, 0.00074488,\n",
            "       0.00069094, 0.0007192 , 0.00082836, 0.00091697, 0.00097091])]\n",
            "[0.0010954886108702514]\n",
            "\n"
          ],
          "name": "stdout"
        }
      ]
    },
    {
      "cell_type": "code",
      "metadata": {
        "id": "eGf8nORLxUHA"
      },
      "source": [
        "x_train, y_train = np.array(x_train), np.array(y_train)"
      ],
      "execution_count": 37,
      "outputs": []
    },
    {
      "cell_type": "code",
      "metadata": {
        "id": "h7dQQJmjxdA3",
        "outputId": "0e0cd812-4301-4ca8-fddc-983fd383ea77",
        "colab": {
          "base_uri": "https://localhost:8080/",
          "height": 34
        }
      },
      "source": [
        "x_train = np.reshape(x_train, (x_train.shape[0], x_train.shape[1], 1))\n",
        "x_train.shape"
      ],
      "execution_count": 38,
      "outputs": [
        {
          "output_type": "execute_result",
          "data": {
            "text/plain": [
              "(3638, 60, 1)"
            ]
          },
          "metadata": {
            "tags": []
          },
          "execution_count": 38
        }
      ]
    },
    {
      "cell_type": "code",
      "metadata": {
        "id": "81MRpPsZx8EQ"
      },
      "source": [
        "#model = Sequential()\n",
        "#model.add(LSTM(100, return_sequences=True, input_shape= (x_train.shape[1], 1)))\n",
        "#model.add(LSTM(100, return_sequences= False))\n",
        "#model.add(Dense(50))\n",
        "#model.add(Dense(1))"
      ],
      "execution_count": 39,
      "outputs": []
    },
    {
      "cell_type": "code",
      "metadata": {
        "id": "fULXw3xavLaK"
      },
      "source": [
        "model = Sequential()\n",
        "model.add(LSTM(50, return_sequences=True, input_shape= (x_train.shape[1], 1)))\n",
        "model.add(LSTM(50, return_sequences= False))\n",
        "model.add(Dense(25))\n",
        "model.add(Dense(1))"
      ],
      "execution_count": 40,
      "outputs": []
    },
    {
      "cell_type": "code",
      "metadata": {
        "id": "s2T2DSwvy7il"
      },
      "source": [
        "model.compile(optimizer='adam', loss='mean_squared_error', metrics='accuracy' )\n"
      ],
      "execution_count": 41,
      "outputs": []
    },
    {
      "cell_type": "code",
      "metadata": {
        "id": "RoHCOz4aAOs-",
        "outputId": "b237a437-659c-4bb1-dbba-6ec975f11e9f",
        "colab": {
          "base_uri": "https://localhost:8080/",
          "height": 1000
        }
      },
      "source": [
        "rmse= 100\n",
        "while ( rmse >= 1):     \n",
        "  model.fit(x_train, y_train, validation_data=(x_train, y_train) ,batch_size=100 , epochs=1)\n",
        "  test_data = scaled_data[training_data_len - 60: , :]\n",
        "  x_test = []\n",
        "  y_test = dataset[training_data_len:, :]\n",
        "  for i in range(60, len(test_data)):\n",
        "    x_test.append(test_data[i-60:i, 0])\n",
        "  y_test.size\n",
        "  x_test = np.array(x_test)\n",
        "  x_test = np.reshape(x_test, (x_test.shape[0],x_test.shape[1], 1 ))\n",
        "  Predictions = model.predict(x_test)\n",
        "  Predictions = scaler.inverse_transform(Predictions)\n",
        "  rmse=np.sqrt(np.mean(((Predictions- y_test)**2)))\n",
        "  rmse"
      ],
      "execution_count": null,
      "outputs": [
        {
          "output_type": "stream",
          "text": [
            "37/37 [==============================] - 4s 111ms/step - loss: 6.4944e-06 - accuracy: 2.7488e-04 - val_loss: 5.2532e-06 - val_accuracy: 2.7488e-04\n",
            "37/37 [==============================] - 4s 110ms/step - loss: 6.3789e-06 - accuracy: 2.7488e-04 - val_loss: 8.2960e-06 - val_accuracy: 2.7488e-04\n",
            "37/37 [==============================] - 4s 110ms/step - loss: 6.1550e-06 - accuracy: 2.7488e-04 - val_loss: 5.6225e-06 - val_accuracy: 2.7488e-04\n",
            "37/37 [==============================] - 4s 111ms/step - loss: 5.9159e-06 - accuracy: 2.7488e-04 - val_loss: 7.3492e-06 - val_accuracy: 2.7488e-04\n",
            "37/37 [==============================] - 4s 110ms/step - loss: 6.8619e-06 - accuracy: 2.7488e-04 - val_loss: 7.2064e-06 - val_accuracy: 2.7488e-04\n",
            "37/37 [==============================] - 4s 111ms/step - loss: 5.9245e-06 - accuracy: 2.7488e-04 - val_loss: 5.1475e-06 - val_accuracy: 2.7488e-04\n",
            "37/37 [==============================] - 4s 112ms/step - loss: 5.9948e-06 - accuracy: 2.7488e-04 - val_loss: 5.1863e-06 - val_accuracy: 2.7488e-04\n",
            "37/37 [==============================] - 4s 114ms/step - loss: 6.9801e-06 - accuracy: 2.7488e-04 - val_loss: 5.1857e-06 - val_accuracy: 2.7488e-04\n",
            "37/37 [==============================] - 4s 112ms/step - loss: 5.4431e-06 - accuracy: 2.7488e-04 - val_loss: 7.4615e-06 - val_accuracy: 2.7488e-04\n",
            "37/37 [==============================] - 4s 111ms/step - loss: 5.5404e-06 - accuracy: 2.7488e-04 - val_loss: 5.1808e-06 - val_accuracy: 2.7488e-04\n",
            "37/37 [==============================] - 4s 113ms/step - loss: 6.5259e-06 - accuracy: 2.7488e-04 - val_loss: 7.5836e-06 - val_accuracy: 2.7488e-04\n",
            "37/37 [==============================] - 4s 111ms/step - loss: 6.3180e-06 - accuracy: 2.7488e-04 - val_loss: 8.8808e-06 - val_accuracy: 2.7488e-04\n",
            "37/37 [==============================] - 4s 112ms/step - loss: 6.8567e-06 - accuracy: 2.7488e-04 - val_loss: 5.1479e-06 - val_accuracy: 2.7488e-04\n",
            "37/37 [==============================] - 4s 111ms/step - loss: 5.5874e-06 - accuracy: 2.7488e-04 - val_loss: 8.8355e-06 - val_accuracy: 2.7488e-04\n",
            "37/37 [==============================] - 4s 110ms/step - loss: 6.9070e-06 - accuracy: 2.7488e-04 - val_loss: 5.5287e-06 - val_accuracy: 2.7488e-04\n",
            "37/37 [==============================] - 4s 112ms/step - loss: 6.0966e-06 - accuracy: 2.7488e-04 - val_loss: 8.9404e-06 - val_accuracy: 2.7488e-04\n",
            "37/37 [==============================] - 4s 109ms/step - loss: 7.0548e-06 - accuracy: 2.7488e-04 - val_loss: 9.5921e-06 - val_accuracy: 2.7488e-04\n",
            "37/37 [==============================] - 4s 111ms/step - loss: 7.2983e-06 - accuracy: 2.7488e-04 - val_loss: 6.3780e-06 - val_accuracy: 2.7488e-04\n",
            "37/37 [==============================] - 4s 114ms/step - loss: 5.9799e-06 - accuracy: 2.7488e-04 - val_loss: 7.3549e-06 - val_accuracy: 2.7488e-04\n",
            "37/37 [==============================] - 4s 112ms/step - loss: 6.9604e-06 - accuracy: 2.7488e-04 - val_loss: 7.5337e-06 - val_accuracy: 2.7488e-04\n",
            "37/37 [==============================] - 4s 114ms/step - loss: 6.6968e-06 - accuracy: 2.7488e-04 - val_loss: 5.2679e-06 - val_accuracy: 2.7488e-04\n",
            "37/37 [==============================] - 4s 112ms/step - loss: 6.2686e-06 - accuracy: 2.7488e-04 - val_loss: 5.2869e-06 - val_accuracy: 2.7488e-04\n",
            "37/37 [==============================] - 4s 115ms/step - loss: 5.6900e-06 - accuracy: 2.7488e-04 - val_loss: 5.1648e-06 - val_accuracy: 2.7488e-04\n",
            "37/37 [==============================] - 4s 115ms/step - loss: 5.9230e-06 - accuracy: 2.7488e-04 - val_loss: 5.8730e-06 - val_accuracy: 2.7488e-04\n",
            "37/37 [==============================] - 4s 111ms/step - loss: 6.2932e-06 - accuracy: 2.7488e-04 - val_loss: 6.0403e-06 - val_accuracy: 2.7488e-04\n",
            "37/37 [==============================] - 4s 114ms/step - loss: 5.7692e-06 - accuracy: 2.7488e-04 - val_loss: 5.1199e-06 - val_accuracy: 2.7488e-04\n",
            "37/37 [==============================] - 4s 113ms/step - loss: 5.7922e-06 - accuracy: 2.7488e-04 - val_loss: 5.3165e-06 - val_accuracy: 2.7488e-04\n",
            "37/37 [==============================] - 4s 114ms/step - loss: 5.9225e-06 - accuracy: 2.7488e-04 - val_loss: 6.2712e-06 - val_accuracy: 2.7488e-04\n",
            "37/37 [==============================] - 4s 113ms/step - loss: 6.7360e-06 - accuracy: 2.7488e-04 - val_loss: 7.8458e-06 - val_accuracy: 2.7488e-04\n",
            "37/37 [==============================] - 4s 112ms/step - loss: 8.5092e-06 - accuracy: 2.7488e-04 - val_loss: 6.6431e-06 - val_accuracy: 2.7488e-04\n",
            "37/37 [==============================] - 4s 113ms/step - loss: 6.1047e-06 - accuracy: 2.7488e-04 - val_loss: 5.9274e-06 - val_accuracy: 2.7488e-04\n",
            "37/37 [==============================] - 4s 115ms/step - loss: 6.0371e-06 - accuracy: 2.7488e-04 - val_loss: 5.4738e-06 - val_accuracy: 2.7488e-04\n",
            "37/37 [==============================] - 4s 112ms/step - loss: 5.6435e-06 - accuracy: 2.7488e-04 - val_loss: 6.0815e-06 - val_accuracy: 2.7488e-04\n",
            "37/37 [==============================] - 4s 112ms/step - loss: 6.7678e-06 - accuracy: 2.7488e-04 - val_loss: 5.1746e-06 - val_accuracy: 2.7488e-04\n",
            "37/37 [==============================] - 4s 111ms/step - loss: 6.2946e-06 - accuracy: 2.7488e-04 - val_loss: 5.9644e-06 - val_accuracy: 2.7488e-04\n",
            "37/37 [==============================] - 4s 111ms/step - loss: 5.8855e-06 - accuracy: 2.7488e-04 - val_loss: 5.3519e-06 - val_accuracy: 2.7488e-04\n",
            "37/37 [==============================] - 4s 110ms/step - loss: 5.8709e-06 - accuracy: 2.7488e-04 - val_loss: 7.5204e-06 - val_accuracy: 2.7488e-04\n",
            "37/37 [==============================] - 4s 112ms/step - loss: 6.6283e-06 - accuracy: 2.7488e-04 - val_loss: 7.3623e-06 - val_accuracy: 2.7488e-04\n",
            "37/37 [==============================] - 4s 111ms/step - loss: 6.3721e-06 - accuracy: 2.7488e-04 - val_loss: 7.9612e-06 - val_accuracy: 2.7488e-04\n",
            "37/37 [==============================] - 4s 114ms/step - loss: 6.9526e-06 - accuracy: 2.7488e-04 - val_loss: 1.3016e-05 - val_accuracy: 2.7488e-04\n",
            "37/37 [==============================] - 4s 113ms/step - loss: 6.7525e-06 - accuracy: 2.7488e-04 - val_loss: 5.0843e-06 - val_accuracy: 2.7488e-04\n",
            "37/37 [==============================] - 4s 115ms/step - loss: 5.6388e-06 - accuracy: 2.7488e-04 - val_loss: 6.3475e-06 - val_accuracy: 2.7488e-04\n",
            "37/37 [==============================] - 4s 113ms/step - loss: 5.9758e-06 - accuracy: 2.7488e-04 - val_loss: 5.2536e-06 - val_accuracy: 2.7488e-04\n",
            "37/37 [==============================] - 4s 114ms/step - loss: 7.3948e-06 - accuracy: 2.7488e-04 - val_loss: 5.4184e-06 - val_accuracy: 2.7488e-04\n",
            "37/37 [==============================] - 4s 111ms/step - loss: 5.5380e-06 - accuracy: 2.7488e-04 - val_loss: 6.4228e-06 - val_accuracy: 2.7488e-04\n",
            "37/37 [==============================] - 4s 113ms/step - loss: 6.4850e-06 - accuracy: 2.7488e-04 - val_loss: 6.3300e-06 - val_accuracy: 2.7488e-04\n",
            "37/37 [==============================] - 4s 113ms/step - loss: 5.7764e-06 - accuracy: 2.7488e-04 - val_loss: 5.4434e-06 - val_accuracy: 2.7488e-04\n",
            "37/37 [==============================] - 4s 111ms/step - loss: 5.6550e-06 - accuracy: 2.7488e-04 - val_loss: 6.6882e-06 - val_accuracy: 2.7488e-04\n",
            "37/37 [==============================] - 4s 112ms/step - loss: 5.9626e-06 - accuracy: 2.7488e-04 - val_loss: 5.8539e-06 - val_accuracy: 2.7488e-04\n",
            "37/37 [==============================] - 4s 110ms/step - loss: 6.5785e-06 - accuracy: 2.7488e-04 - val_loss: 6.6104e-06 - val_accuracy: 2.7488e-04\n",
            "37/37 [==============================] - 4s 113ms/step - loss: 6.3850e-06 - accuracy: 2.7488e-04 - val_loss: 5.1001e-06 - val_accuracy: 2.7488e-04\n",
            "37/37 [==============================] - 4s 113ms/step - loss: 5.5228e-06 - accuracy: 2.7488e-04 - val_loss: 6.0861e-06 - val_accuracy: 2.7488e-04\n",
            "37/37 [==============================] - 4s 113ms/step - loss: 5.4693e-06 - accuracy: 2.7488e-04 - val_loss: 5.3300e-06 - val_accuracy: 2.7488e-04\n",
            "37/37 [==============================] - 7s 179ms/step - loss: 5.6472e-06 - accuracy: 2.7488e-04 - val_loss: 7.2300e-06 - val_accuracy: 2.7488e-04\n",
            "37/37 [==============================] - 4s 116ms/step - loss: 6.4890e-06 - accuracy: 2.7488e-04 - val_loss: 7.5021e-06 - val_accuracy: 2.7488e-04\n",
            "37/37 [==============================] - 4s 113ms/step - loss: 5.8083e-06 - accuracy: 2.7488e-04 - val_loss: 5.2653e-06 - val_accuracy: 2.7488e-04\n",
            "37/37 [==============================] - 4s 115ms/step - loss: 5.7034e-06 - accuracy: 2.7488e-04 - val_loss: 6.1552e-06 - val_accuracy: 2.7488e-04\n",
            "37/37 [==============================] - 4s 114ms/step - loss: 6.8672e-06 - accuracy: 2.7488e-04 - val_loss: 5.5288e-06 - val_accuracy: 2.7488e-04\n",
            "37/37 [==============================] - 4s 113ms/step - loss: 5.4929e-06 - accuracy: 2.7488e-04 - val_loss: 5.0226e-06 - val_accuracy: 2.7488e-04\n",
            "37/37 [==============================] - 4s 112ms/step - loss: 5.5391e-06 - accuracy: 2.7488e-04 - val_loss: 5.6149e-06 - val_accuracy: 2.7488e-04\n",
            "37/37 [==============================] - 4s 112ms/step - loss: 6.0539e-06 - accuracy: 2.7488e-04 - val_loss: 6.9349e-06 - val_accuracy: 2.7488e-04\n",
            "37/37 [==============================] - 4s 112ms/step - loss: 6.2114e-06 - accuracy: 2.7488e-04 - val_loss: 1.0391e-05 - val_accuracy: 2.7488e-04\n",
            "37/37 [==============================] - 4s 111ms/step - loss: 6.6735e-06 - accuracy: 2.7488e-04 - val_loss: 5.1948e-06 - val_accuracy: 2.7488e-04\n",
            "37/37 [==============================] - 4s 115ms/step - loss: 6.5015e-06 - accuracy: 2.7488e-04 - val_loss: 6.1170e-06 - val_accuracy: 2.7488e-04\n",
            "37/37 [==============================] - 5s 124ms/step - loss: 6.1543e-06 - accuracy: 2.7488e-04 - val_loss: 7.3500e-06 - val_accuracy: 2.7488e-04\n",
            "37/37 [==============================] - 4s 112ms/step - loss: 6.0110e-06 - accuracy: 2.7488e-04 - val_loss: 7.5094e-06 - val_accuracy: 2.7488e-04\n",
            "37/37 [==============================] - 4s 111ms/step - loss: 5.8364e-06 - accuracy: 2.7488e-04 - val_loss: 6.2091e-06 - val_accuracy: 2.7488e-04\n",
            "37/37 [==============================] - 4s 113ms/step - loss: 6.9813e-06 - accuracy: 2.7488e-04 - val_loss: 5.1473e-06 - val_accuracy: 2.7488e-04\n",
            "37/37 [==============================] - 4s 114ms/step - loss: 5.8713e-06 - accuracy: 2.7488e-04 - val_loss: 5.0730e-06 - val_accuracy: 2.7488e-04\n",
            "37/37 [==============================] - 4s 110ms/step - loss: 6.1609e-06 - accuracy: 2.7488e-04 - val_loss: 5.7052e-06 - val_accuracy: 2.7488e-04\n",
            "37/37 [==============================] - 4s 116ms/step - loss: 6.9029e-06 - accuracy: 2.7488e-04 - val_loss: 8.6543e-06 - val_accuracy: 2.7488e-04\n",
            "37/37 [==============================] - 4s 114ms/step - loss: 6.3619e-06 - accuracy: 2.7488e-04 - val_loss: 5.1553e-06 - val_accuracy: 2.7488e-04\n",
            "37/37 [==============================] - 4s 113ms/step - loss: 6.0974e-06 - accuracy: 2.7488e-04 - val_loss: 7.2133e-06 - val_accuracy: 2.7488e-04\n",
            "37/37 [==============================] - 4s 113ms/step - loss: 6.0613e-06 - accuracy: 2.7488e-04 - val_loss: 8.2681e-06 - val_accuracy: 2.7488e-04\n",
            "37/37 [==============================] - 4s 112ms/step - loss: 6.4924e-06 - accuracy: 2.7488e-04 - val_loss: 8.6294e-06 - val_accuracy: 2.7488e-04\n",
            "37/37 [==============================] - 4s 111ms/step - loss: 8.6096e-06 - accuracy: 2.7488e-04 - val_loss: 6.1967e-06 - val_accuracy: 2.7488e-04\n",
            "37/37 [==============================] - 4s 111ms/step - loss: 5.8324e-06 - accuracy: 2.7488e-04 - val_loss: 5.0418e-06 - val_accuracy: 2.7488e-04\n",
            "37/37 [==============================] - 4s 111ms/step - loss: 5.8358e-06 - accuracy: 2.7488e-04 - val_loss: 5.9011e-06 - val_accuracy: 2.7488e-04\n",
            "37/37 [==============================] - 4s 113ms/step - loss: 5.9876e-06 - accuracy: 2.7488e-04 - val_loss: 8.5046e-06 - val_accuracy: 2.7488e-04\n",
            "37/37 [==============================] - 4s 112ms/step - loss: 6.6820e-06 - accuracy: 2.7488e-04 - val_loss: 5.6042e-06 - val_accuracy: 2.7488e-04\n",
            "37/37 [==============================] - 4s 110ms/step - loss: 5.6002e-06 - accuracy: 2.7488e-04 - val_loss: 6.2335e-06 - val_accuracy: 2.7488e-04\n",
            "37/37 [==============================] - 4s 114ms/step - loss: 6.0078e-06 - accuracy: 2.7488e-04 - val_loss: 5.7924e-06 - val_accuracy: 2.7488e-04\n",
            "37/37 [==============================] - 4s 109ms/step - loss: 5.5689e-06 - accuracy: 2.7488e-04 - val_loss: 5.2309e-06 - val_accuracy: 2.7488e-04\n",
            "37/37 [==============================] - 4s 113ms/step - loss: 5.4976e-06 - accuracy: 2.7488e-04 - val_loss: 6.3087e-06 - val_accuracy: 2.7488e-04\n",
            "37/37 [==============================] - 4s 112ms/step - loss: 5.9833e-06 - accuracy: 2.7488e-04 - val_loss: 7.0136e-06 - val_accuracy: 2.7488e-04\n",
            "37/37 [==============================] - 4s 111ms/step - loss: 6.4738e-06 - accuracy: 2.7488e-04 - val_loss: 6.3591e-06 - val_accuracy: 2.7488e-04\n",
            "37/37 [==============================] - 4s 111ms/step - loss: 5.6042e-06 - accuracy: 2.7488e-04 - val_loss: 4.9868e-06 - val_accuracy: 2.7488e-04\n",
            "37/37 [==============================] - 4s 116ms/step - loss: 6.6236e-06 - accuracy: 2.7488e-04 - val_loss: 5.4126e-06 - val_accuracy: 2.7488e-04\n",
            "37/37 [==============================] - 4s 112ms/step - loss: 5.4324e-06 - accuracy: 2.7488e-04 - val_loss: 5.1949e-06 - val_accuracy: 2.7488e-04\n",
            "37/37 [==============================] - 4s 112ms/step - loss: 6.4081e-06 - accuracy: 2.7488e-04 - val_loss: 6.9363e-06 - val_accuracy: 2.7488e-04\n",
            "37/37 [==============================] - 4s 112ms/step - loss: 5.7791e-06 - accuracy: 2.7488e-04 - val_loss: 5.1595e-06 - val_accuracy: 2.7488e-04\n",
            "37/37 [==============================] - 4s 115ms/step - loss: 6.3918e-06 - accuracy: 2.7488e-04 - val_loss: 7.9113e-06 - val_accuracy: 2.7488e-04\n",
            "37/37 [==============================] - 4s 114ms/step - loss: 5.9619e-06 - accuracy: 2.7488e-04 - val_loss: 5.1587e-06 - val_accuracy: 2.7488e-04\n",
            "37/37 [==============================] - 4s 112ms/step - loss: 5.6131e-06 - accuracy: 2.7488e-04 - val_loss: 5.8231e-06 - val_accuracy: 2.7488e-04\n",
            "37/37 [==============================] - 4s 112ms/step - loss: 5.8552e-06 - accuracy: 2.7488e-04 - val_loss: 6.1104e-06 - val_accuracy: 2.7488e-04\n",
            "37/37 [==============================] - 4s 109ms/step - loss: 5.5871e-06 - accuracy: 2.7488e-04 - val_loss: 5.1162e-06 - val_accuracy: 2.7488e-04\n",
            "32/37 [========================>.....] - ETA: 0s - loss: 5.5494e-06 - accuracy: 0.0000e+00"
          ],
          "name": "stdout"
        }
      ]
    },
    {
      "cell_type": "code",
      "metadata": {
        "id": "0h13NjIc7X-C"
      },
      "source": [
        "#acc_callback = AccuracyStopping(0.05)\n",
        "#model.fit(x_train, y_train, validation_data=(x_train, y_train) ,batch_size=1 , epochs=10)\n",
        "#model.fit(x_train, y_train, batch_size=1000, epochs=1000)"
      ],
      "execution_count": null,
      "outputs": []
    },
    {
      "cell_type": "code",
      "metadata": {
        "id": "dhG1i88RzNmV"
      },
      "source": [
        "#model.fit(x_train, y_train, batch_size=1, epochs=100)\n",
        "#model.fit(x_train, y_train, batch_size=1, epochs=100)"
      ],
      "execution_count": null,
      "outputs": []
    },
    {
      "cell_type": "code",
      "metadata": {
        "id": "mBveL7KXzuvI"
      },
      "source": [
        "test_data = scaled_data[training_data_len - 60: , :]\n",
        "\n",
        "x_test = []\n",
        "y_test = dataset[training_data_len:, :]\n",
        "\n",
        "for i in range(60, len(test_data)):\n",
        "  x_test.append(test_data[i-60:i, 0])\n",
        "\n",
        "y_test.size\n",
        " \n",
        "\n"
      ],
      "execution_count": null,
      "outputs": []
    },
    {
      "cell_type": "code",
      "metadata": {
        "id": "LxPLvSyb0RA_"
      },
      "source": [
        "x_test = np.array(x_test)\n"
      ],
      "execution_count": null,
      "outputs": []
    },
    {
      "cell_type": "code",
      "metadata": {
        "id": "yC8dhgEs0boM"
      },
      "source": [
        "x_test = np.reshape(x_test, (x_test.shape[0],x_test.shape[1], 1 ))\n"
      ],
      "execution_count": null,
      "outputs": []
    },
    {
      "cell_type": "code",
      "metadata": {
        "id": "oBjT_3nn2mav"
      },
      "source": [
        "#Prediction \n",
        "Predictions = model.predict(x_test)\n",
        "Predictions = scaler.inverse_transform(Predictions)"
      ],
      "execution_count": null,
      "outputs": []
    },
    {
      "cell_type": "code",
      "metadata": {
        "id": "A4ZxEWOE04fM",
        "outputId": "9a41d145-972c-49ab-d6f0-d7d138251331",
        "colab": {
          "base_uri": "https://localhost:8080/",
          "height": 185
        }
      },
      "source": [
        "rmse=np.sqrt(np.mean(((Predictions- y_test)**2)))\n",
        "rmse"
      ],
      "execution_count": 2,
      "outputs": [
        {
          "output_type": "error",
          "ename": "NameError",
          "evalue": "ignored",
          "traceback": [
            "\u001b[0;31m---------------------------------------------------------------------------\u001b[0m",
            "\u001b[0;31mNameError\u001b[0m                                 Traceback (most recent call last)",
            "\u001b[0;32m<ipython-input-2-17647878cceb>\u001b[0m in \u001b[0;36m<module>\u001b[0;34m()\u001b[0m\n\u001b[0;32m----> 1\u001b[0;31m \u001b[0mrmse\u001b[0m\u001b[0;34m=\u001b[0m\u001b[0mnp\u001b[0m\u001b[0;34m.\u001b[0m\u001b[0msqrt\u001b[0m\u001b[0;34m(\u001b[0m\u001b[0mnp\u001b[0m\u001b[0;34m.\u001b[0m\u001b[0mmean\u001b[0m\u001b[0;34m(\u001b[0m\u001b[0;34m(\u001b[0m\u001b[0;34m(\u001b[0m\u001b[0mPredictions\u001b[0m\u001b[0;34m-\u001b[0m \u001b[0my_test\u001b[0m\u001b[0;34m)\u001b[0m\u001b[0;34m**\u001b[0m\u001b[0;36m2\u001b[0m\u001b[0;34m)\u001b[0m\u001b[0;34m)\u001b[0m\u001b[0;34m)\u001b[0m\u001b[0;34m\u001b[0m\u001b[0;34m\u001b[0m\u001b[0m\n\u001b[0m\u001b[1;32m      2\u001b[0m \u001b[0mrmse\u001b[0m\u001b[0;34m\u001b[0m\u001b[0;34m\u001b[0m\u001b[0m\n",
            "\u001b[0;31mNameError\u001b[0m: name 'np' is not defined"
          ]
        }
      ]
    },
    {
      "cell_type": "code",
      "metadata": {
        "id": "SXNZ3kBo4CDF"
      },
      "source": [
        "train = data[:training_data_len]\n",
        "valid = data[training_data_len:]\n",
        "valid['Predictions'] = Predictions\n",
        "\n",
        "plt.figure(figsize=(16,8))\n",
        "plt.title('Model')\n",
        "plt.xlabel('Date',fontsize=18 )\n",
        "plt.ylabel('Close price0' , fontsize=18 )\n",
        "plt.plot(train['Close'])\n",
        "plt.plot(valid[['Close', 'Predictions']])\n",
        "plt.legend(['Train', 'Val','Predictions'], loc='lower right')\n",
        "plt.show()\n"
      ],
      "execution_count": null,
      "outputs": []
    },
    {
      "cell_type": "code",
      "metadata": {
        "id": "0YsuaPiqHmvW"
      },
      "source": [
        ""
      ],
      "execution_count": null,
      "outputs": []
    },
    {
      "cell_type": "code",
      "metadata": {
        "id": "qVziBvaPAZ2y"
      },
      "source": [
        "valid"
      ],
      "execution_count": null,
      "outputs": []
    },
    {
      "cell_type": "code",
      "metadata": {
        "id": "s18QN816AguO"
      },
      "source": [
        "\n",
        "stock_qoute = web.DataReader(stock, data_source='yahoo',start = startdate, end = enddate)\n",
        "\n",
        "new_df = stock_qoute.filter(['Close'])\n",
        "last_60_days = new_df[-60:].values\n",
        "\n",
        "last_60_days_scaled = scaler.transform(last_60_days)\n",
        "\n",
        "x_test = [ ]\n",
        "x_test.append(last_60_days_scaled)\n",
        "\n",
        "x_test = np.array(x_test)\n",
        "\n",
        "x_test = np.reshape(x_test, (x_test.shape[0],x_test.shape[1], 1))\n",
        "\n",
        "pred_price= model.predict(x_test)\n",
        "\n",
        "pred_price = scaler.inverse_transform(pred_price)\n",
        "\n",
        "print(pred_price)\n"
      ],
      "execution_count": null,
      "outputs": []
    },
    {
      "cell_type": "code",
      "metadata": {
        "id": "sRA-ScMPCSwf"
      },
      "source": [
        "stock_qoute2 = web.DataReader(stock, data_source='yahoo',start = startdate, end = enddate)\n",
        "print(stock_qoute2['Close'])"
      ],
      "execution_count": null,
      "outputs": []
    }
  ]
}